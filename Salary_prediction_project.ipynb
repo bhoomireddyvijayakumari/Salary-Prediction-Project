{
  "nbformat": 4,
  "nbformat_minor": 0,
  "metadata": {
    "colab": {
      "provenance": [],
      "collapsed_sections": [
        "Yfr_Vlr8HBkt",
        "-Kee-DAl2viO"
      ],
      "include_colab_link": true
    },
    "kernelspec": {
      "name": "python3",
      "display_name": "Python 3"
    },
    "language_info": {
      "name": "python"
    }
  },
  "cells": [
    {
      "cell_type": "markdown",
      "metadata": {
        "id": "view-in-github",
        "colab_type": "text"
      },
      "source": [
        "<a href=\"https://colab.research.google.com/github/bhoomireddyvijayakumari/Salary-Prediction-Project/blob/main/Salary_prediction_project.ipynb\" target=\"_parent\"><img src=\"https://colab.research.google.com/assets/colab-badge.svg\" alt=\"Open In Colab\"/></a>"
      ]
    },
    {
      "cell_type": "markdown",
      "source": [
        "# **Project Name**    - Salary Prediction\n",
        "\n"
      ],
      "metadata": {
        "id": "vncDsAP0Gaoa"
      }
    },
    {
      "cell_type": "markdown",
      "source": [
        "##### **Project Type**    - EDA/Regression\n",
        "##### **Contribution**    - Individual"
      ],
      "metadata": {
        "id": "beRrZCGUAJYm"
      }
    },
    {
      "cell_type": "markdown",
      "source": [
        "# **Project Summary -**"
      ],
      "metadata": {
        "id": "FJNUwmbgGyua"
      }
    },
    {
      "cell_type": "markdown",
      "source": [
        "The Salary Prediction Project analyzes Glassdoor job postings (2017-2018) to predict tech industry salaries based on factors like job role, company size, and location. The goal is to help job seekers, employers, and recruiters make data-driven compensation decisions.\n",
        "\n",
        "The dataset was cleaned and explored, revealing key trends:\n",
        "\n",
        "DevOps roles earn more than Data Scientists and Software Engineers.\n",
        "Larger companies (5000+ employees) pay higher salaries.\n",
        "Washington, D.C. offers the highest average salaries, followed by Illinois and North Carolina.\n",
        "Three machine learning models were tested:\n",
        "\n",
        "Linear Regression (baseline, R²: 0.16).\n",
        "Random Forest (improved performance, R²: 0.62).\n",
        "Gradient Boosting (best model, R²: 0.62 after hyperparameter tuning).\n",
        "The Gradient Boosting model was selected for deployment due to its balance of accuracy and interpretability. Key findings were validated using statistical tests, confirming that DevOps salaries are significantly higher than other roles."
      ],
      "metadata": {
        "id": "F6v_1wHtG2nS"
      }
    },
    {
      "cell_type": "markdown",
      "source": [
        "# **GitHub Link -**"
      ],
      "metadata": {
        "id": "w6K7xa23Elo4"
      }
    },
    {
      "cell_type": "markdown",
      "source": [
        "https://github.com/bhoomireddyvijayakumari/Salary-Prediction-Project.git"
      ],
      "metadata": {
        "id": "h1o69JH3Eqqn"
      }
    },
    {
      "cell_type": "markdown",
      "source": [
        "# **Problem Statement**\n"
      ],
      "metadata": {
        "id": "yQaldy8SH6Dl"
      }
    },
    {
      "cell_type": "markdown",
      "source": [
        "This project explores Glassdoor job posting data from 2017-2018 to answer key questions: How do salaries differ between roles like Data Scientists, Software Engineers, and DevOps Engineers? Does working at a larger company mean higher pay? How much does location impact earnings—for example, how do salaries in San Francisco compare to Austin or New York? Beyond these insights, the goal is to build a predictive model that estimates salaries based on job details like title, company size, and location. The findings will help job seekers negotiate better offers, assist employers in setting competitive pay, and give recruiters and analysts valuable market insights."
      ],
      "metadata": {
        "id": "DpeJGUA3kjGy"
      }
    },
    {
      "cell_type": "markdown",
      "source": [
        "# **General Guidelines** : -  "
      ],
      "metadata": {
        "id": "mDgbUHAGgjLW"
      }
    },
    {
      "cell_type": "markdown",
      "source": [
        "1.   Well-structured, formatted, and commented code is required.\n",
        "2.   Exception Handling, Production Grade Code & Deployment Ready Code will be a plus. Those students will be awarded some additional credits.\n",
        "     \n",
        "     The additional credits will have advantages over other students during Star Student selection.\n",
        "       \n",
        "             [ Note: - Deployment Ready Code is defined as, the whole .ipynb notebook should be executable in one go\n",
        "                       without a single error logged. ]\n",
        "\n",
        "3.   Each and every logic should have proper comments.\n",
        "4. You may add as many number of charts you want. Make Sure for each and every chart the following format should be answered.\n",
        "        \n",
        "\n",
        "```\n",
        "# Chart visualization code\n",
        "```\n",
        "            \n",
        "\n",
        "*   Why did you pick the specific chart?\n",
        "*   What is/are the insight(s) found from the chart?\n",
        "* Will the gained insights help creating a positive business impact?\n",
        "Are there any insights that lead to negative growth? Justify with specific reason.\n",
        "\n",
        "5. You have to create at least 15 logical & meaningful charts having important insights.\n",
        "\n",
        "\n",
        "[ Hints : - Do the Vizualization in  a structured way while following \"UBM\" Rule.\n",
        "\n",
        "U - Univariate Analysis,\n",
        "\n",
        "B - Bivariate Analysis (Numerical - Categorical, Numerical - Numerical, Categorical - Categorical)\n",
        "\n",
        "M - Multivariate Analysis\n",
        " ]\n",
        "\n",
        "\n",
        "\n",
        "\n",
        "\n",
        "6. You may add more ml algorithms for model creation. Make sure for each and every algorithm, the following format should be answered.\n",
        "\n",
        "\n",
        "*   Explain the ML Model used and it's performance using Evaluation metric Score Chart.\n",
        "\n",
        "\n",
        "*   Cross- Validation & Hyperparameter Tuning\n",
        "\n",
        "*   Have you seen any improvement? Note down the improvement with updates Evaluation metric Score Chart.\n",
        "\n",
        "*   Explain each evaluation metric's indication towards business and the business impact pf the ML model used.\n",
        "\n",
        "\n",
        "\n",
        "\n",
        "\n",
        "\n",
        "\n",
        "\n",
        "\n",
        "\n",
        "\n",
        "\n",
        "\n",
        "\n",
        "\n",
        "\n",
        "\n",
        "\n"
      ],
      "metadata": {
        "id": "ZrxVaUj-hHfC"
      }
    },
    {
      "cell_type": "markdown",
      "source": [
        "# ***Let's Begin !***"
      ],
      "metadata": {
        "id": "O_i_v8NEhb9l"
      }
    },
    {
      "cell_type": "markdown",
      "source": [
        "## ***1. Know Your Data***"
      ],
      "metadata": {
        "id": "HhfV-JJviCcP"
      }
    },
    {
      "cell_type": "markdown",
      "source": [
        "### Import Libraries"
      ],
      "metadata": {
        "id": "Y3lxredqlCYt"
      }
    },
    {
      "cell_type": "code",
      "source": [
        "# Importing the necessary libraries\n",
        "import pandas as pd\n",
        "import numpy as np\n",
        "import matplotlib.pyplot as plt\n",
        "import seaborn as sns\n",
        "from sklearn.model_selection import train_test_split\n",
        "from sklearn.linear_model import LinearRegression, Ridge, Lasso\n",
        "from sklearn.ensemble import RandomForestRegressor, GradientBoostingRegressor\n",
        "from sklearn.metrics import mean_squared_error, r2_score\n",
        "from sklearn.preprocessing import StandardScaler, OneHotEncoder\n",
        "from sklearn.compose import ColumnTransformer\n",
        "from sklearn.pipeline import Pipeline\n",
        "from sklearn.model_selection import GridSearchCV\n",
        "import warnings\n",
        "warnings.filterwarnings('ignore')"
      ],
      "metadata": {
        "id": "M8Vqi-pPk-HR"
      },
      "execution_count": 1,
      "outputs": []
    },
    {
      "cell_type": "markdown",
      "source": [
        "### Dataset Loading"
      ],
      "metadata": {
        "id": "3RnN4peoiCZX"
      }
    },
    {
      "cell_type": "code",
      "source": [
        "# Loading the Dataset\n",
        "from google.colab import drive\n",
        "drive.mount('/content/drive')\n",
        "df = pd.read_csv('/content/drive/My Drive/Colab Notebooks/SPP/glassdoor_jobs.csv')"
      ],
      "metadata": {
        "id": "4CkvbW_SlZ_R",
        "colab": {
          "base_uri": "https://localhost:8080/",
          "height": 0
        },
        "outputId": "45064b20-52fa-47fa-e237-515f4d2365c4"
      },
      "execution_count": 5,
      "outputs": [
        {
          "output_type": "stream",
          "name": "stdout",
          "text": [
            "Drive already mounted at /content/drive; to attempt to forcibly remount, call drive.mount(\"/content/drive\", force_remount=True).\n"
          ]
        }
      ]
    },
    {
      "cell_type": "markdown",
      "source": [
        "### Dataset First View"
      ],
      "metadata": {
        "id": "x71ZqKXriCWQ"
      }
    },
    {
      "cell_type": "code",
      "source": [
        "# Dataset First Look - displaying the first few rows of the dataset\n",
        "print(df.head())"
      ],
      "metadata": {
        "id": "LWNFOSvLl09H",
        "colab": {
          "base_uri": "https://localhost:8080/",
          "height": 0
        },
        "outputId": "d7f26a3a-262f-4358-80ff-02060f58bd30"
      },
      "execution_count": 7,
      "outputs": [
        {
          "output_type": "stream",
          "name": "stdout",
          "text": [
            "   Unnamed: 0                  Job Title              Salary Estimate  \\\n",
            "0           0             Data Scientist   $53K-$91K (Glassdoor est.)   \n",
            "1           1  Healthcare Data Scientist  $63K-$112K (Glassdoor est.)   \n",
            "2           2             Data Scientist   $80K-$90K (Glassdoor est.)   \n",
            "3           3             Data Scientist   $56K-$97K (Glassdoor est.)   \n",
            "4           4             Data Scientist  $86K-$143K (Glassdoor est.)   \n",
            "\n",
            "                                     Job Description  Rating  \\\n",
            "0  Data Scientist\\nLocation: Albuquerque, NM\\nEdu...     3.8   \n",
            "1  What You Will Do:\\n\\nI. General Summary\\n\\nThe...     3.4   \n",
            "2  KnowBe4, Inc. is a high growth information sec...     4.8   \n",
            "3  *Organization and Job ID**\\nJob ID: 310709\\n\\n...     3.8   \n",
            "4  Data Scientist\\nAffinity Solutions / Marketing...     2.9   \n",
            "\n",
            "                                 Company Name         Location  \\\n",
            "0                      Tecolote Research\\n3.8  Albuquerque, NM   \n",
            "1  University of Maryland Medical System\\n3.4    Linthicum, MD   \n",
            "2                                KnowBe4\\n4.8   Clearwater, FL   \n",
            "3                                   PNNL\\n3.8     Richland, WA   \n",
            "4                     Affinity Solutions\\n2.9     New York, NY   \n",
            "\n",
            "     Headquarters                    Size  Founded   Type of ownership  \\\n",
            "0      Goleta, CA   501 to 1000 employees     1973   Company - Private   \n",
            "1   Baltimore, MD        10000+ employees     1984  Other Organization   \n",
            "2  Clearwater, FL   501 to 1000 employees     2010   Company - Private   \n",
            "3    Richland, WA  1001 to 5000 employees     1965          Government   \n",
            "4    New York, NY     51 to 200 employees     1998   Company - Private   \n",
            "\n",
            "                           Industry                        Sector  \\\n",
            "0               Aerospace & Defense           Aerospace & Defense   \n",
            "1  Health Care Services & Hospitals                   Health Care   \n",
            "2                 Security Services             Business Services   \n",
            "3                            Energy  Oil, Gas, Energy & Utilities   \n",
            "4           Advertising & Marketing             Business Services   \n",
            "\n",
            "                            Revenue  \\\n",
            "0         $50 to $100 million (USD)   \n",
            "1            $2 to $5 billion (USD)   \n",
            "2        $100 to $500 million (USD)   \n",
            "3  $500 million to $1 billion (USD)   \n",
            "4          Unknown / Non-Applicable   \n",
            "\n",
            "                                         Competitors  \n",
            "0                                                 -1  \n",
            "1                                                 -1  \n",
            "2                                                 -1  \n",
            "3  Oak Ridge National Laboratory, National Renewa...  \n",
            "4               Commerce Signals, Cardlytics, Yodlee  \n"
          ]
        }
      ]
    },
    {
      "cell_type": "markdown",
      "source": [
        "### Dataset Rows & Columns count"
      ],
      "metadata": {
        "id": "7hBIi_osiCS2"
      }
    },
    {
      "cell_type": "code",
      "source": [
        "# Dataset Rows & Columns count\n",
        "print(f\"Dataset shape: {df.shape}\")\n"
      ],
      "metadata": {
        "id": "Kllu7SJgmLij",
        "colab": {
          "base_uri": "https://localhost:8080/",
          "height": 0
        },
        "outputId": "316cda5f-0aa4-45ab-ec0b-4504338ce88e"
      },
      "execution_count": 9,
      "outputs": [
        {
          "output_type": "stream",
          "name": "stdout",
          "text": [
            "Dataset shape: (956, 15)\n"
          ]
        }
      ]
    },
    {
      "cell_type": "markdown",
      "source": [
        "### Dataset Information"
      ],
      "metadata": {
        "id": "JlHwYmJAmNHm"
      }
    },
    {
      "cell_type": "code",
      "source": [
        "# Dataset Info\n",
        "print(df.info())"
      ],
      "metadata": {
        "id": "e9hRXRi6meOf",
        "colab": {
          "base_uri": "https://localhost:8080/",
          "height": 0
        },
        "outputId": "9d710033-b494-4257-8d91-1f780bac60c0"
      },
      "execution_count": 14,
      "outputs": [
        {
          "output_type": "stream",
          "name": "stdout",
          "text": [
            "<class 'pandas.core.frame.DataFrame'>\n",
            "RangeIndex: 956 entries, 0 to 955\n",
            "Data columns (total 15 columns):\n",
            " #   Column             Non-Null Count  Dtype  \n",
            "---  ------             --------------  -----  \n",
            " 0   Unnamed: 0         956 non-null    int64  \n",
            " 1   Job Title          956 non-null    object \n",
            " 2   Salary Estimate    956 non-null    object \n",
            " 3   Job Description    956 non-null    object \n",
            " 4   Rating             956 non-null    float64\n",
            " 5   Company Name       956 non-null    object \n",
            " 6   Location           956 non-null    object \n",
            " 7   Headquarters       956 non-null    object \n",
            " 8   Size               956 non-null    object \n",
            " 9   Founded            956 non-null    int64  \n",
            " 10  Type of ownership  956 non-null    object \n",
            " 11  Industry           956 non-null    object \n",
            " 12  Sector             956 non-null    object \n",
            " 13  Revenue            956 non-null    object \n",
            " 14  Competitors        956 non-null    object \n",
            "dtypes: float64(1), int64(2), object(12)\n",
            "memory usage: 112.2+ KB\n",
            "None\n"
          ]
        }
      ]
    },
    {
      "cell_type": "markdown",
      "source": [
        "#### Duplicate Values"
      ],
      "metadata": {
        "id": "35m5QtbWiB9F"
      }
    },
    {
      "cell_type": "code",
      "source": [
        "# Dataset Duplicate Value Count\n",
        "duplicates = df[df.duplicated()]\n",
        "\n",
        "# Display duplicate rows\n",
        "print(f\"Number of duplicate rows: {duplicates.shape[0]}\")\n",
        "duplicates.head()"
      ],
      "metadata": {
        "id": "1sLdpKYkmox0",
        "colab": {
          "base_uri": "https://localhost:8080/",
          "height": 101
        },
        "outputId": "c743487a-b024-4604-9aa8-dcf30b617ca2"
      },
      "execution_count": 15,
      "outputs": [
        {
          "output_type": "stream",
          "name": "stdout",
          "text": [
            "Number of duplicate rows: 0\n"
          ]
        },
        {
          "output_type": "execute_result",
          "data": {
            "text/plain": [
              "Empty DataFrame\n",
              "Columns: [Unnamed: 0, Job Title, Salary Estimate, Job Description, Rating, Company Name, Location, Headquarters, Size, Founded, Type of ownership, Industry, Sector, Revenue, Competitors]\n",
              "Index: []"
            ],
            "text/html": [
              "\n",
              "  <div id=\"df-7c9bfcba-d20c-4b5e-8c15-d0a1e86ce022\" class=\"colab-df-container\">\n",
              "    <div>\n",
              "<style scoped>\n",
              "    .dataframe tbody tr th:only-of-type {\n",
              "        vertical-align: middle;\n",
              "    }\n",
              "\n",
              "    .dataframe tbody tr th {\n",
              "        vertical-align: top;\n",
              "    }\n",
              "\n",
              "    .dataframe thead th {\n",
              "        text-align: right;\n",
              "    }\n",
              "</style>\n",
              "<table border=\"1\" class=\"dataframe\">\n",
              "  <thead>\n",
              "    <tr style=\"text-align: right;\">\n",
              "      <th></th>\n",
              "      <th>Unnamed: 0</th>\n",
              "      <th>Job Title</th>\n",
              "      <th>Salary Estimate</th>\n",
              "      <th>Job Description</th>\n",
              "      <th>Rating</th>\n",
              "      <th>Company Name</th>\n",
              "      <th>Location</th>\n",
              "      <th>Headquarters</th>\n",
              "      <th>Size</th>\n",
              "      <th>Founded</th>\n",
              "      <th>Type of ownership</th>\n",
              "      <th>Industry</th>\n",
              "      <th>Sector</th>\n",
              "      <th>Revenue</th>\n",
              "      <th>Competitors</th>\n",
              "    </tr>\n",
              "  </thead>\n",
              "  <tbody>\n",
              "  </tbody>\n",
              "</table>\n",
              "</div>\n",
              "    <div class=\"colab-df-buttons\">\n",
              "\n",
              "  <div class=\"colab-df-container\">\n",
              "    <button class=\"colab-df-convert\" onclick=\"convertToInteractive('df-7c9bfcba-d20c-4b5e-8c15-d0a1e86ce022')\"\n",
              "            title=\"Convert this dataframe to an interactive table.\"\n",
              "            style=\"display:none;\">\n",
              "\n",
              "  <svg xmlns=\"http://www.w3.org/2000/svg\" height=\"24px\" viewBox=\"0 -960 960 960\">\n",
              "    <path d=\"M120-120v-720h720v720H120Zm60-500h600v-160H180v160Zm220 220h160v-160H400v160Zm0 220h160v-160H400v160ZM180-400h160v-160H180v160Zm440 0h160v-160H620v160ZM180-180h160v-160H180v160Zm440 0h160v-160H620v160Z\"/>\n",
              "  </svg>\n",
              "    </button>\n",
              "\n",
              "  <style>\n",
              "    .colab-df-container {\n",
              "      display:flex;\n",
              "      gap: 12px;\n",
              "    }\n",
              "\n",
              "    .colab-df-convert {\n",
              "      background-color: #E8F0FE;\n",
              "      border: none;\n",
              "      border-radius: 50%;\n",
              "      cursor: pointer;\n",
              "      display: none;\n",
              "      fill: #1967D2;\n",
              "      height: 32px;\n",
              "      padding: 0 0 0 0;\n",
              "      width: 32px;\n",
              "    }\n",
              "\n",
              "    .colab-df-convert:hover {\n",
              "      background-color: #E2EBFA;\n",
              "      box-shadow: 0px 1px 2px rgba(60, 64, 67, 0.3), 0px 1px 3px 1px rgba(60, 64, 67, 0.15);\n",
              "      fill: #174EA6;\n",
              "    }\n",
              "\n",
              "    .colab-df-buttons div {\n",
              "      margin-bottom: 4px;\n",
              "    }\n",
              "\n",
              "    [theme=dark] .colab-df-convert {\n",
              "      background-color: #3B4455;\n",
              "      fill: #D2E3FC;\n",
              "    }\n",
              "\n",
              "    [theme=dark] .colab-df-convert:hover {\n",
              "      background-color: #434B5C;\n",
              "      box-shadow: 0px 1px 3px 1px rgba(0, 0, 0, 0.15);\n",
              "      filter: drop-shadow(0px 1px 2px rgba(0, 0, 0, 0.3));\n",
              "      fill: #FFFFFF;\n",
              "    }\n",
              "  </style>\n",
              "\n",
              "    <script>\n",
              "      const buttonEl =\n",
              "        document.querySelector('#df-7c9bfcba-d20c-4b5e-8c15-d0a1e86ce022 button.colab-df-convert');\n",
              "      buttonEl.style.display =\n",
              "        google.colab.kernel.accessAllowed ? 'block' : 'none';\n",
              "\n",
              "      async function convertToInteractive(key) {\n",
              "        const element = document.querySelector('#df-7c9bfcba-d20c-4b5e-8c15-d0a1e86ce022');\n",
              "        const dataTable =\n",
              "          await google.colab.kernel.invokeFunction('convertToInteractive',\n",
              "                                                    [key], {});\n",
              "        if (!dataTable) return;\n",
              "\n",
              "        const docLinkHtml = 'Like what you see? Visit the ' +\n",
              "          '<a target=\"_blank\" href=https://colab.research.google.com/notebooks/data_table.ipynb>data table notebook</a>'\n",
              "          + ' to learn more about interactive tables.';\n",
              "        element.innerHTML = '';\n",
              "        dataTable['output_type'] = 'display_data';\n",
              "        await google.colab.output.renderOutput(dataTable, element);\n",
              "        const docLink = document.createElement('div');\n",
              "        docLink.innerHTML = docLinkHtml;\n",
              "        element.appendChild(docLink);\n",
              "      }\n",
              "    </script>\n",
              "  </div>\n",
              "\n",
              "\n",
              "    </div>\n",
              "  </div>\n"
            ],
            "application/vnd.google.colaboratory.intrinsic+json": {
              "type": "dataframe",
              "variable_name": "duplicates",
              "repr_error": "Out of range float values are not JSON compliant: nan"
            }
          },
          "metadata": {},
          "execution_count": 15
        }
      ]
    },
    {
      "cell_type": "markdown",
      "source": [
        "#### Missing Values/Null Values"
      ],
      "metadata": {
        "id": "PoPl-ycgm1ru"
      }
    },
    {
      "cell_type": "code",
      "source": [
        "# Missing Values/Null Values Coun\n",
        "print(df.isnull().sum())"
      ],
      "metadata": {
        "id": "GgHWkxvamxVg",
        "colab": {
          "base_uri": "https://localhost:8080/",
          "height": 0
        },
        "outputId": "e544aab2-02ae-4ac3-ef62-90e942e78959"
      },
      "execution_count": 16,
      "outputs": [
        {
          "output_type": "stream",
          "name": "stdout",
          "text": [
            "Unnamed: 0           0\n",
            "Job Title            0\n",
            "Salary Estimate      0\n",
            "Job Description      0\n",
            "Rating               0\n",
            "Company Name         0\n",
            "Location             0\n",
            "Headquarters         0\n",
            "Size                 0\n",
            "Founded              0\n",
            "Type of ownership    0\n",
            "Industry             0\n",
            "Sector               0\n",
            "Revenue              0\n",
            "Competitors          0\n",
            "dtype: int64\n"
          ]
        }
      ]
    },
    {
      "cell_type": "code",
      "source": [
        "# Visualizing the missing values\n",
        "plt.figure(figsize=(10,6))\n",
        "sns.heatmap(df.isnull(), cbar=False, cmap='viridis')\n",
        "plt.title('Missing Values Heatmap')\n",
        "plt.show()"
      ],
      "metadata": {
        "id": "3q5wnI3om9sJ",
        "colab": {
          "base_uri": "https://localhost:8080/",
          "height": 656
        },
        "outputId": "e1de267f-68ee-4fd6-f281-307eab50894f"
      },
      "execution_count": 17,
      "outputs": [
        {
          "output_type": "display_data",
          "data": {
            "text/plain": [
              "<Figure size 1000x600 with 1 Axes>"
            ],
            "image/png": "[encoded data removed]"
          },
          "metadata": {}
        }
      ]
    },
    {
      "cell_type": "markdown",
      "source": [
        "### What did you know about your dataset?"
      ],
      "metadata": {
        "id": "H0kj-8xxnORC"
      }
    },
    {
      "cell_type": "markdown",
      "source": [
        "From this heatmap and the results we can see that the dataset contains no duplicate rows and no missing values."
      ],
      "metadata": {
        "id": "gfoNAAC-nUe_"
      }
    },
    {
      "cell_type": "markdown",
      "source": [
        "## ***2. Understanding Your Variables***"
      ],
      "metadata": {
        "id": "nA9Y7ga8ng1Z"
      }
    },
    {
      "cell_type": "code",
      "source": [
        "# Dataset Columns\n",
        "print(df.columns)"
      ],
      "metadata": {
        "id": "j7xfkqrt5Ag5",
        "colab": {
          "base_uri": "https://localhost:8080/",
          "height": 0
        },
        "outputId": "0aad7ebc-c76a-47e7-e208-bb66f36c10d6"
      },
      "execution_count": 18,
      "outputs": [
        {
          "output_type": "stream",
          "name": "stdout",
          "text": [
            "Index(['Unnamed: 0', 'Job Title', 'Salary Estimate', 'Job Description',\n",
            "       'Rating', 'Company Name', 'Location', 'Headquarters', 'Size', 'Founded',\n",
            "       'Type of ownership', 'Industry', 'Sector', 'Revenue', 'Competitors'],\n",
            "      dtype='object')\n"
          ]
        }
      ]
    },
    {
      "cell_type": "code",
      "source": [
        "# Dataset Describe\n",
        "print(df.describe())"
      ],
      "metadata": {
        "id": "DnOaZdaE5Q5t",
        "colab": {
          "base_uri": "https://localhost:8080/",
          "height": 0
        },
        "outputId": "192b8a28-c730-4229-ace3-7e22891a5708"
      },
      "execution_count": 19,
      "outputs": [
        {
          "output_type": "stream",
          "name": "stdout",
          "text": [
            "       Unnamed: 0      Rating      Founded\n",
            "count  956.000000  956.000000   956.000000\n",
            "mean   477.500000    3.601255  1774.605649\n",
            "std    276.117729    1.067619   598.942517\n",
            "min      0.000000   -1.000000    -1.000000\n",
            "25%    238.750000    3.300000  1937.000000\n",
            "50%    477.500000    3.800000  1992.000000\n",
            "75%    716.250000    4.200000  2008.000000\n",
            "max    955.000000    5.000000  2019.000000\n"
          ]
        }
      ]
    },
    {
      "cell_type": "markdown",
      "source": [
        "### Check Unique Values for each variable."
      ],
      "metadata": {
        "id": "u3PMJOP6ngxN"
      }
    },
    {
      "cell_type": "code",
      "source": [
        "# Check Unique Values for each variable.\n",
        "for column in df.columns:\n",
        "    unique_vals = df[column].unique()\n",
        "    print(f\"\\nColumn: {column}\")\n",
        "    print(f\"Number of unique values: {df[column].nunique()}\")\n",
        "    print(f\"Unique values sample: {unique_vals[:10]}\")"
      ],
      "metadata": {
        "id": "zms12Yq5n-jE",
        "colab": {
          "base_uri": "https://localhost:8080/",
          "height": 0
        },
        "outputId": "6a8fecbb-0885-44f0-992b-1c9312908e7f"
      },
      "execution_count": 21,
      "outputs": [
        {
          "output_type": "stream",
          "name": "stdout",
          "text": [
            "\n",
            "Column: Unnamed: 0\n",
            "Number of unique values: 956\n",
            "Unique values sample: [0 1 2 3 4 5 6 7 8 9]\n",
            "\n",
            "Column: Job Title\n",
            "Number of unique values: 328\n",
            "Unique values sample: ['Data Scientist' 'Healthcare Data Scientist' 'Research Scientist'\n",
            " 'Staff Data Scientist - Technology' 'Data Analyst' 'Data Engineer I'\n",
            " 'Scientist I/II, Biology' 'Customer Data Scientist'\n",
            " 'Data Scientist - Health Data Analytics'\n",
            " 'Senior Data Scientist / Machine Learning']\n",
            "\n",
            "Column: Salary Estimate\n",
            "Number of unique values: 417\n",
            "Unique values sample: ['$53K-$91K (Glassdoor est.)' '$63K-$112K (Glassdoor est.)'\n",
            " '$80K-$90K (Glassdoor est.)' '$56K-$97K (Glassdoor est.)'\n",
            " '$86K-$143K (Glassdoor est.)' '$71K-$119K (Glassdoor est.)'\n",
            " '$54K-$93K (Glassdoor est.)' '$86K-$142K (Glassdoor est.)'\n",
            " '$38K-$84K (Glassdoor est.)' '$120K-$160K (Glassdoor est.)']\n",
            "\n",
            "Column: Job Description\n",
            "Number of unique values: 596\n",
            "Unique values sample: ['Data Scientist\\nLocation: Albuquerque, NM\\nEducation Required: Bachelor’s degree required, preferably in math, engineering, business, or the sciences.\\nSkills Required:\\nBachelor’s Degree in relevant field, e.g., math, data analysis, database, computer science, Artificial Intelligence (AI); three years’ experience credit for Master’s degree; five years’ experience credit for a Ph.D\\nApplicant should be proficient in the use of Power BI, Tableau, Python, MATLAB, Microsoft Word, PowerPoint, Excel, and working knowledge of MS Access, LMS, SAS, data visualization tools, and have a strong algorithmic aptitude\\nExcellent verbal and written communication skills, and quantitative analytical skills are required\\nApplicant must be able to work in a team environment\\nU.S. citizenship and ability to obtain a DoD Secret Clearance required\\nResponsibilities: The applicant will be responsible for formulating analytical solutions to complex data problems; creating data analytic models to improve data metrics; analyzing customer behavior and trends; delivering insights to stakeholders, as well as designing and crafting reports, dashboards, models, and algorithms to make data insights actionable; selecting features, building and optimizing classifiers using machine learning techniques; data mining using state-of-the-art methods, extending organization’s data with third party sources of information when needed; enhancing data collection procedures to include information that is relevant for building analytic systems; processing, cleansing, and verifying the integrity of data used for analysis; doing ad-hoc analysis and presenting results in a clear manner; and creating automated anomaly detection systems and constant tracking of its performance.\\nBenefits:\\nWe offer competitive salaries commensurate with education and experience. We have an excellent benefits package that includes:\\nComprehensive health, dental, life, long and short term disability insurance\\n100% Company funded Retirement Plans\\nGenerous vacation, holiday and sick pay plans\\nTuition assistance\\n\\nBenefits are provided to employees regularly working a minimum of 30 hours per week.\\n\\nTecolote Research is a private, employee-owned corporation where people are our primary resource. Our investments in technology and training give our employees the tools to ensure our clients are provided the solutions they need, and our very high employee retention rate and stable workforce is an added value to our customers. Apply now to connect with a company that invests in you.'\n",
            " 'What You Will Do:\\n\\nI. General Summary\\n\\nThe Healthcare Data Scientist position will join our Advanced Analytics group at the University of Maryland Medical System (UMMS) in support of its strategic priority to become a data-driven and outcomes-oriented organization. The successful candidate will have 3+ years of experience with Machine Learning, Predictive Modeling, Statistical Analysis, Mathematical Optimization, Algorithm Development and a passion for working with healthcare data. Previous experience with various computational approaches along with an ability to demonstrate a portfolio of relevant prior projects is essential. This position will report to the UMMS Vice President for Enterprise Data and Analytics (ED&A).\\n\\nII. Principal Responsibilities and Tasks\\n\\n• Develops predictive and prescriptive analytic models in support of the organization’s clinical, operations and business initiatives and priorities.\\n• Deploys solutions so that they provide actionable insights to the organization and are embedded or integrated with application systems\\n• Supports and drives analytic efforts designed around organization’s strategic priorities and clinical/business problems\\n• Works in a team to drive disruptive innovation, which may translate into improved quality of care, clinical outcomes, reduced costs, temporal efficiencies and process improvements.\\n• Builds and extends our analytics portfolio supported by robust documentation\\n• Works with autonomy to find solutions to complex problems using open source tools and in-house development\\n• Stays abreast of state-of-the-art literature in the fields of operations research, statistical modeling, statistical process control and mathematical optimization\\n• Creates, communicates, and manages the project plans and other required project documentation and provides updates to leadership as necessary\\n• Develops and maintains relationships with business, IT and clinical leaders and stakeholders across the enterprise to facilitate collaboration and effective communication\\n• Works with the analytics team and clinical/business stakeholders to develop pilots so that they may be tested and validated in pilot settings\\n• Performs analysis to evaluate primary and secondary objectives from such pilots\\n• Assists leadership with strategies for scaling successful projects across the organization and enhances the analytics applications based on feedback from end-users and clinical/business consumers\\n• Assists leadership with dissemination of success stories (and failures) in an effort to increase analytics literacy and adoption across the organization.\\n\\nWhat You Need to Be Successful:\\n\\nIII. Education and Experience\\n\\n• Master’s or higher degree (may be substituted by relevant work experience) in applied mathematics, physics, computer science, engineering, statistics or a related field\\n• 3+ years of Mathematical Optimization, Machine Learning, Predictive Analytics and Algorithm Development experience (experience with tools such as WEKA, RapidMiner, R. Python or other open source tools strongly desired)\\n• Strong development skills in two or more of the following: C/C++, C#, Python, Java\\n• Combining analytic methods with advanced data visualizations\\n• Expert ability to breakdown and clearly define problems\\n• Experience with Natural Language Processing preferred\\n\\nIV. Knowledge, Skills and Abilities\\n\\n• Proven communications skills – Effective at working independently and in collaboration with other staff members. Capable of clearly presenting findings orally, in writing, or through graphics.\\n• Proven analytical skills – Able to compare, contrast, and validate work with keen attention to detail. Skilled in working with “real world” data including scrubbing, transformation, and imputation.\\n• Proven problem solving skills – Able to plan work, set clear direction, and coordinate own tasks in a fast-paced multidisciplinary environment. Expert at triaging issues, identifying data anomalies, and debugging software.\\n• Design and prototype new application functionality for our products.\\n• Change oriented – actively generates process improvements; supports and drives change, and confronts difficult circumstances in creative ways\\n• Effective communicator and change agent\\n• Ability to prioritize the tasks of the project timeline to achieve the desired results\\n• Strong analytic and problem solving skills\\n• Ability to cooperatively and effectively work with people from various organization levels\\n\\nWe are an Equal Opportunity Employer and do not discriminate against any employee or applicant for employment because of race, color, sex, age, national origin, religion, sexual orientation, gender identity, status as a veteran, and basis of disability or any other federal, state or local protected class.'\n",
            " \"KnowBe4, Inc. is a high growth information security company. We are the world's largest provider of new-school security awareness training and simulated phishing. KnowBe4 was created to help organizations manage the ongoing problem of social engineering. Tens of thousands of organizations worldwide use KnowBe4's platform to mobilize their end users as a last line of defense and enable them to make better security decisions, every day.\\n\\nWe are ranked #1 best place to work in technology nationwide by Fortune Magazine and have placed #1 or #2 in The Tampa Bay Top Workplaces Survey for the last four years. We also just had our 27th record-setting quarter in a row!\\n\\nThe Data Scientist will work closely with the VP of FP&A and the Quantitative Analytics Manager to implement advanced analytical models and other data-driven solutions.\\n\\nResponsibilities:\\nWork with key stakeholders throughout the organization to identify opportunities using financial data to develop business solutions.\\nDevelop new and enhance existing data collection procedures to ensure that all data relevant for analyses is captured.\\nCleanse, consolidate, and verify the integrity of data used in analyses.\\nBuild and validate predictive models to increase customer retention, revenue generation, and other business outcomes.\\nDevelop relevant statistical models to assist with profitability forecasting\\nCreate the analytics to leverage known, inferred and appended information about origins and recognizing patterns to assist in outlook forecasting\\nAssist in the design and data modeling of data warehouse.\\nVisualize data, especially in reports and dashboards, to communicate analysis results to stakeholders.\\nExtend data collection to unstructured data within the company and external sources\\nMine and collect data (both structured and unstructured) to detect patterns, opportunities and insights that drive our organization\\nCreate and execute automation and data mining requests utilizing SQL, Access, Excel, SAS and other statistical programs\\nTrouble shoot forecast and optimization anomalies with FP&A team through the use of statistical and mathematical optimization models. Develop testing to explain and or reduce these anomalies.\\nOversee and develop key metric forecasts as well as provide budget support based on trends in the business/industry.\\nMinimum Qualifications:\\nMaster's degree in Statistics, Computer Science, Mathematics or other quantitative discipline required\\n2-3 years of experience in similar role (Master's Degree)\\n0-2 years of experience in similar role (PhD)\\nExperience leveraging predictive modeling, big data analytics, exploratory data analysis and machine learning to drive significant business impact\\nExperience with statistical computer languages (Python, R etc.) to manipulate and analyze large datasets preferred.\\nExperience with data visualization tools like D3.js, matplotlib, etc., preferred\\nExceptional understanding of machine learning algorithms such as Random Forest, SVM, k-NN, Naïve Bayes, Gradient Boosting a plus.\\nApplied statistical skills including statistical testing, regression, etc.\\nExperience with data bases, query languages, and associated data architecture.\\nExperience with distributed computing tools (Hive, Spark, etc.) is a plus.\\nStrong analytical skills and ability to meet project deadlines.\\nNote: An applicant assessment, background check and drug test may be part of your hiring procedure.\\n\\nNo recruitment agencies, please.\"\n",
            " '*Organization and Job ID**\\nJob ID: 310709\\n\\nDirectorate: Earth & Biological Sciences\\n\\nDivision: Biological Sciences\\n\\nGroup: Exposure Science Team\\n*Job Description**\\nThe Biological System Science (BSS) Group in the Biological Sciences Division of the Pacific Northwest National Laboratory (PNNL) is seeking a staff scientist with multidisciplinary experience in computational chemistry, cheminformatics, advanced statistics and/or machine learning/deep learning/AI. Preferred candidates will have a broad understanding of the state of computational metabolomics and experience in designing and implementing novel deep learning networks for chemistry applications. Research experience in drug design, cheminformatics, deep learning, machine learning and/or small molecule identification is also highly valued. Successful candidates will join a large, uniquely collaborative, collegial group of innovators driving the integration of data science, computational science and analytical chemistry to solve the nations most challenging problems in human health, chemical forensics, and national security. The BSS Group is diverse and inclusive, working closely with colleagues across the laboratory with expertise in computational biology, integrative omics, applied mathematics, computer science, and statistics.\\n\\n+ Apply knowledge of statistics, machine learning, advanced mathematics, simulation, software development, and data modeling to to design, development and implement methods that integrate, clean and analyze data, recognize patterns, address uncertainty, pose questions, and make discoveries from structured and/or unstructured data.\\n\\n+ Produce solutions driven by exploratory data analysis from complex and high-dimensional datasets.\\n\\n+ Design, develop, and evaluate predictive models and advanced algorithms that lead to optimal value extraction from data.\\n\\n+ Develop and maintain existing deep learning networks that generate novel molecules for drug discovery applications\\n\\n+ Contribue or author proposals, peer-reviewed papers, and other technical products.\\n*Minimum Qualifications**\\nBS/BA with 0-1 years of experience or MS/MA with 0-1 years of experience\\n*Preferred Qualifications**\\n+ MS in chemical engineering, computer science, or related field with a GPA of 3.5+ 5+ years of research experience\\n\\n+ Intermediate level programming experience (preferably Python) and high-performance computing experience\\n\\n+ At least one first author published, or proof of submitted, paper applying deep learning for use in novel compound generation\\n\\n+ Understanding of the NMDA receptor and potential drug targets\\n\\n+ Research experience in drug design, cheminformatics, deep learning, machine learning and/or small molecule identification\\n*Equal Employment Opportunity**\\nBattelle Memorial Institute (BMI) at Pacific Northwest National Laboratory (PNNL) is an Affirmative Action/Equal Opportunity Employer and supports diversity in the workplace. All employment decisions are made without regard to race, color, religion, sex, national origin, age, disability, veteran status, marital or family status, sexual orientation, gender identity, or genetic information. All BMI staff must be able to demonstrate the legal right to work in the United States. BMI is an E-Verify employer. Learn more at jobs.pnnl.gov.\\n*_Please be aware that the Department of Energy (DOE) prohibits DOE employees and contractors from participation in certain foreign government talent recruitment programs. If you are offered a position at PNNL and are currently a participant in a foreign government talent recruitment program you will be required to disclose this information before your first day of employment._**\\n_Directorate:_ _Earth & Biological Sciences_\\n\\n_Job Category:_ _Scientists/Scientific Support_\\n\\n_Group:_ _Biological Systems Science_\\n\\n_Opening Date:_ _2020-03-26_\\n\\n_Closing Date:_ _2020-04-05_'\n",
            " \"Data Scientist\\nAffinity Solutions / Marketing Cloud seeks smart, curious, technically savvy candidates to join our cutting-edge data science team. We hire the best and brightest and give them the opportunity to work on industry-leading technologies.\\nThe data sciences team at AFS/Marketing Cloud build models, machine learning algorithms that power all our ad-tech/mar-tech products at scale, develop methodology and tools to precisely and effectively measure market campaign effects, and research in-house and public data sources for consumer spend behavior insights. In this role, you'll have the opportunity to come up with new ideas and solutions that will lead to improvement of our ability to target the right audience, derive insights and provide better measurement methodology for marketing campaigns. You'll access our core data asset and machine learning infrastructure to power your ideas.\\nDuties and Responsibilities\\n· Support all clients model building needs, including maintaining and improving current modeling/scoring methodology and processes,\\n· Provide innovative solutions to customized modeling/scoring/targeting with appropriate ML/statistical tools,\\n· Provide analytical/statistical support such as marketing test design, projection, campaign measurement, market insights to clients and stakeholders.\\n· Mine large consumer datasets in the cloud environment to support ad hoc business and statistical analysis,\\n· Develop and Improve automation capabilities to enable customized delivery of the analytical products to clients,\\n· Communicate the methodologies and the results to the management, clients and none technical stakeholders.\\nBasic Qualifications\\n· Advanced degree in Statistics/Mathematics/Computer Science/Economics or other fields that requires advanced training in data analytics.\\n· Being able to apply basic statistical/ML concepts and reasoning to address and solve business problems such as targeting, test design, KPI projection and performance measurement.\\n· Entrepreneurial, highly self-motivated, collaborative, keen attention to detail, willingness and capable learn quickly, and ability to effectively prioritize and execute tasks in a high pressure environment.\\n· Being flexible to accept different task assignments and able to work on a tight time schedule.\\n· Excellent command of one or more programming languages; preferably Python, SAS or R\\n· Familiar with one of the database technologies such as PostgreSQL, MySQL, can write basic SQL queries\\n· Great communication skills (verbal, written and presentation)\\nPreferred Qualifications\\n· Experience or exposure to large consumer and/or demographic data sets.\\n· Familiarity with data manipulation and cleaning routines and techniques.\"\n",
            " 'CyrusOne is seeking a talented Data Scientist who holds a range of data-focused skills both in technical and analytical domains. The ideal candidate is adept at processing, cleansing, and verifying the integrity of data used for visualization and analysis. This role is dynamic, granting the candidate the opportunity to participate in a wide variety of projects and collaborate with many cross-functional teams throughout the business.\\n\\nDuties and Responsibilities:\\nParticipate in an agile scrum cadence\\nProcess, cleanse, and verify the integrity of data used for analysis\\nPerform functional business requirements analysis and data analysis\\nDevelop data models and algorithms to apply to data sets\\nAugment data collection procedures to include necessary information for building accurate analytics\\nCollaborate with stakeholders throughout the organization to identify opportunities for leveraging data to drive business solutions\\nEvaluate the effectiveness and accuracy of data sources and data gathering techniques\\nGather critical information from meetings with various stakeholders and produce useful reports\\nCoordinate with cross-functional teams to implement models and monitor outcomes\\nDevelop automated discrepancy detection systems and distribute reconciliation reports to stakeholders\\nRequirements:\\nMust be legally authorized to work in the United States for any employer without sponsorship\\nProfessional experience using statistical software languages like R, Python, and SQL to query, manipulate, and draw insights from data sets\\nStrong problem-solving skills with an emphasis on product development\\nExtensive experience with Microsoft SQL, MySQL and MongoDB\\nUnderstanding of version control (git) and project management with Azure DevOps\\nKnowledge of machine learning techniques (clustering, decision tree learning, artificial neural networks, etc.)\\nExperience visualizing data for stakeholders using visualization tools such as Power BI\\nExperience working with and creating data architectures\\nUnderstanding and adherence to agile principles and practices\\nAbility to work on problems of any scope where the analysis of situations or data requires a review of a variety of factors\\nSelf-maintainability and reliability with minimal supervision\\nExcellent interpersonal communication, decision making, presentation, and organizational skills\\nAbility to build productive internal/external working relationships\\nHarmonious with CyrusOne culture, core values, and business goals\\nMinimum Qualifications:\\n2+ years of related experience in a data analyst role\\nStrong can-do attitude in a time sensitive environment\\nOther important information about this position:\\nThis position requires typical weekday (Monday - Friday) attendance in an office setting, at times after hours work may be required to meet business and customer needs\\nEvery position requires certain physical capabilities. CyrusOne seeks to make reasonable accommodations that enable individuals with disabilities to perform essential duties when possible\\nCyrusOne is an equal opportunity employer. All qualified applicants will receive consideration for employment without regard to race, color, sex, sexual orientation, gender identity, religion, national origin, disability, veteran status, or other legally protected status.\\n\\nCyrusOne provides reasonable accommodation for qualified individuals with disabilities in accordance with the Americans with Disabilities Act (ADA) and any other state or local laws. We will respond to requests for reasonable accommodations to assist you in applying for positions at CyrusOne, or to submit a resume. If you need to request an accommodation, please contact our Human Resources at 214.488.1365 (Option 7) or by email at HR@cyrusone.com.'\n",
            " \"Job Description\\n\\n**Please only local candidates apply - thank you**\\n\\nClearOne Advantage is a fast-growing company that is aggressively hiring due to increased business. We are always improving our marketing, culture and technology to provide our employees with the best work atmosphere and our customers with excellent customer service. COA’s proprietary software is tailored to our industry and allows the client to receive the best service possible.\\n\\nWe are looking for a Data Scientist to analyze large amounts of raw information to find patterns that will help improve our company. We will rely on you to build data products to extract valuable business insights. In this role, you should be highly analytical with a knack for analysis, math and statistics. Critical thinking and problem-solving skills are essential for interpreting data. We want to see a passion for machine-learning and research. Your goal will be to help our company analyze trends to make better decisions.\\n\\nIf you are looking to work in a team environment, a place where you are more a name than a number, where you interact with leadership daily, then please send your resume for review!\\n\\nPerks:\\nGreat location, right on the water in the Canton Crossing Tower\\nCasual work environment and WFH flexibility\\nRoom for advancement\\nWhat you'll be doing:\\nIdentify valuable data sources and automate collection processes\\nUndertake preprocessing of structured and unstructured data\\nAnalyze large amounts of information to discover trends and patterns\\nBuild predictive models and machine-learning algorithms\\nCombine models through ensemble modeling\\nPresent information using data visualization techniques\\nPropose solutions and strategies to business challenges\\nCollaborate with engineering and product development teams\"\n",
            " 'Advanced Analytics – Lead Data Scientist\\nOverview\\n\\n\\nWe are looking for a Data Scientist to join our Data Science team to work on interesting projects to help our clients make data driven solutions. As a Data Scientist, you’ll work closely with the clients to understand their business needs, frame them as statistical problems, and solve them with cutting edge techniques. Collaborate with your team, including machine learning engineers, data engineers, analysts, and TPMs to define tasks, provide estimates, and work together to deliver a world class solution. The ideal candidate will have the balance of technical skills and business acumen to help the client better understand their core needs while understanding technical limitations.\\n\\nAbout you…\\nExperience partnering & communicating with executive management team to understand business needs and pain points\\nAbility to communicate data science concepts to business stakeholders\\nPassion for the application of machine learning to real world problems\\nAdept at developing and iterating solutions rapidly\\nAbility to lead development of data science solutions\\nWhat we offer our consultants:\\n\\nExperience working with both large enterprise clients and mid-sized clients\\nProgressive responsibilities that encourage ownership and design\\nOpportunity to learn and gain experience in complimentary skills such as meeting facilitation, data management, project management, data modeling, and data management\\nCompany Culture that celebrates “Foster the culture of we”, “Act with integrity” and “Drive towards excellence” while having fun at work\\nTraining and certification opportunities to support your career now and after Logic20/20\\nVarious opportunities to give back to the community through company sponsored events\\nRequired Qualifications\\nExperience building machine learning models using Python\\nExperience deploying machine learning models in a production environment\\nStrong knowledge of probability statistics\\nExperience with Tensorflow or PyTorch\\nExperience writing SQL to query databases, structure and modify data\\nDemonstrated ability to frame business problems as statistical problems and solve them\\nAbility to work both independently and as part of a team\\nExperience working in ambiguous and dynamic environments that move quickly\\nAn undergraduate degree in mathematics, computer science, or engineering is preferred\\nPreferred Qualifications\\nPassion and experience driving adoption of machine learning in industry\\nExperience deploying machine learning on large scales through Spark or other big data technology\\nExperience building systems in AWS\\nExperience in computer vision with deep neural networks\\nExperience with leading workshops with executives to drive requirements gathering\\nMasters or PhD in data science or related field\\n\\nAbout Logic20/20. . .\\n\\n\\nLogic20/20 is one of Seattle’s fastest growing full-service consulting firms. Our core competency is creating simplicity and efficiency in complex solutions. Although we make it look like magic, we succeed by combining methodical and structured approaches with our substantial experience to design elegant solutions for even the most intricate challenges. Our rapid growth is in response to our ability to deliver consistently for our clients, which is directly related to the quality of the people we hire.\\n\\nThe past four years, we’ve been in the top 10 “Best Companies to Work For” ….. why? Our team members are highly self-motivated, comfortable conceiving strategies on the fly, and enjoy working both individually and as part of a team. Our environment is very high-energy and demanding, and individuals with remarkable enthusiasm and a can-do attitude are joining our team. We have lots of fun, focus on our employees and our clients, and work to bring our best to every opportunity.'\n",
            " 'SUMMARY\\n\\nThe Research Scientist I will be tasked with oversight of research in the Division of Cancer Biology Research at the Rochester General Hospital Research Institute.\\n\\nA strong background in Molecular Biology or Cancer Biology Research is preferred. Mouse models will be used in the research.\\n\\nSTATUS: Full Time\\n\\nLOCATION: RGH Research Institute\\n\\nDEPARTMENT: Cancer Biology\\n\\nSCHEDULE: Monday-Friday; Days\\n\\nATTRIBUTES\\nMD or PhD who is not self supporting of their own salary nor has their own research program\\nFunctions with minimal direction from Research Scientist II, Senior Research Scientist or Laboratory Director.\\nStrong analytical, computer, leadership and problem-solving skills\\nRESPONSIBILITIES\\nConducts research projects including complex experiments, some in parallel, utilizing current concepts and recognized standard techniques, developing new protocols as necessary\\nDemonstrates a high level of initiative in performing experiments, analyzing data and drawing conclusions regarding progress and results of work.\\nMaintains a familiarity with current and emerging technologies through reading and understanding scientific and technical literature resulting in a broadening understanding of disciplines outside area of training and enabling the use of new and improved procedures in the laboratory.\\nDuties are performed with an understanding of drug discovery in area of specialization.\\nEDUCATION PhD; MD Rochester Regional Health is an Equal Opportunity / Affirmative Action Employer. Minority/Female/Disability/Veteran'\n",
            " \"isn’t your usual company. Our work is powered by the premise that every person at is unique, possessing a distinct set of skills, personality, and passions. We embrace our collective talents to tackle technical challenges, refine our successfully disruptive business ideas, and co-create one of the most human and inspiring work cultures out there. We are a team of collaborators, valuing and rewarding shared success over individual heroics.\\nAs a member of our Data Science team, you will use your quantitative expertise to identify new areas of research and optimization, and then see those ideas through to production. Data Science is a fundamental contributor to Intent’s success - your work will have a direct and tangible impact on the business.\\nThere are no typical projects, but a workflow might involve performing research and analysis against petabytes of historical data using our collection of large-scale analytics tools like Spark, Snowflake, and RedShift, building prototypes using mostly Scala or another functional language, pairing with engineers on the Modeling and Prediction team to harden and deploy the functionality, and running live tests to monitor the results.\\nAll of these steps take place in an environment of respect and collaboration, and the Data Science team is empowered to own its agile processes. Every member of the team is expected to be both a student and teacher, and we believe that the most effective Data Science team is one that is collectively learning and growing. Experience in coaching and mentoring colleagues at all levels is strongly desired. As part of the Data Science team, you’d help build out a real-time predictive analytics platform that makes decisions for some of the largest sites on the web.\\nAbout You:\\nSignificant industry experience in several of the following areas: personalized experiences, big data analytics, implementing machine learning & statistical methods, designing and running A/B tests, product design and life cycle, writing production code, designing online auctions.\\nExperience in user experience customization a plus\\nExperience coaching and mentoring team members\\nExperience writing production software in languages like Scala, Clojure, Java, Python, or C++ in an agile, collaborative environment\\nExperience with handling large amounts of data (TB+) in a production setting\\nExperience with Spark is a significant plus\\nExperience in ad-tech a plus\\nAbout Us:\\nis the data science company for the world’s leading online commerce and travel brands. Our Predictive Intelligence Platform uses patented technology to predict user behavior in real-time and identify the future value of every user. Over 450 innovative brands from more than 40 countries trust Intent’s real-time predictions to deliver personalized user experiences that maximize utility and ROI.\\nOur team is over 100 people and our offices span globally. We’re headquartered in NYC with locations in London, Kuala Lumpur, and Sao Paulo.\\nEvery day, we’re inspired by two pursuits. First, we’re building novel products that are upending e-commerce. Second, we’re building the company we’ve always wanted to work for — one that’s open, human and collaborative, where very smart people come together to share ideas and get things done. We’re included on Built in NYC's Best Places to Work list and have been on Crain’s 100 Best Places to Work in NYC list for seven years running.\\nLove Your Job!\\nOur employees enjoy coming to work, and we let them know they're valued.\\nOur vibrant team accomplishes a lot every day, but we insist upon work/life balance so things never become stale. We don’t take ourselves too seriously, but we take our work very seriously.\\nWe believe that in order for our employees to perform their best, they need access to strategic decisions, and so our flat structure and open communication invite innovation from all levels — ideas flow freely.\\nWe offer competitive compensation, stock options, and great perks & benefits, including:\\nUnlimited vacation\\nA generous parental leave policy\\nA beautiful, dog-friendly office in SoHo with drinks and snacks\\nAn open environment with lots of natural light and roof deck access\\nAnnual $2,000 learning budget and Citi Bike membership\\nAccess to Fond, our employee perks program featuring deals and discounts on hundreds of products and services\\nAccess to Sherpaa, a telehealth service with 24/7\\nIn-office yoga classes\\nCompany-wide social events, and more!\\nSo what are you waiting for? Apply with your resume in just a few clicks!\\nAbout Us\\nOur Products\\nOur Dogs\\nTwitter\\nInstagram\"]\n",
            "\n",
            "Column: Rating\n",
            "Number of unique values: 32\n",
            "Unique values sample: [3.8 3.4 4.8 2.9 4.1 3.3 4.6 3.5 3.2 3.7]\n",
            "\n",
            "Column: Company Name\n",
            "Number of unique values: 448\n",
            "Unique values sample: ['Tecolote Research\\n3.8' 'University of Maryland Medical System\\n3.4'\n",
            " 'KnowBe4\\n4.8' 'PNNL\\n3.8' 'Affinity Solutions\\n2.9' 'CyrusOne\\n3.4'\n",
            " 'ClearOne Advantage\\n4.1' 'Logic20/20\\n3.8'\n",
            " 'Rochester Regional Health\\n3.3' '<intent>\\n4.6']\n",
            "\n",
            "Column: Location\n",
            "Number of unique values: 237\n",
            "Unique values sample: ['Albuquerque, NM' 'Linthicum, MD' 'Clearwater, FL' 'Richland, WA'\n",
            " 'New York, NY' 'Dallas, TX' 'Baltimore, MD' 'San Jose, CA'\n",
            " 'Rochester, NY' 'Chantilly, VA']\n",
            "\n",
            "Column: Headquarters\n",
            "Number of unique values: 235\n",
            "Unique values sample: ['Goleta, CA' 'Baltimore, MD' 'Clearwater, FL' 'Richland, WA'\n",
            " 'New York, NY' 'Dallas, TX' 'Seattle, WA' 'Rochester, NY'\n",
            " 'San Francisco, CA' 'Herndon, VA']\n",
            "\n",
            "Column: Size\n",
            "Number of unique values: 9\n",
            "Unique values sample: ['501 to 1000 employees' '10000+ employees' '1001 to 5000 employees'\n",
            " '51 to 200 employees' '201 to 500 employees' '5001 to 10000 employees'\n",
            " '1 to 50 employees' 'Unknown' '-1']\n",
            "\n",
            "Column: Founded\n",
            "Number of unique values: 109\n",
            "Unique values sample: [1973 1984 2010 1965 1998 2000 2008 2005 2014 2009]\n",
            "\n",
            "Column: Type of ownership\n",
            "Number of unique values: 13\n",
            "Unique values sample: ['Company - Private' 'Other Organization' 'Government' 'Company - Public'\n",
            " 'Hospital' 'Subsidiary or Business Segment' 'Nonprofit Organization'\n",
            " 'Contract' 'Unknown' 'College / University']\n",
            "\n",
            "Column: Industry\n",
            "Number of unique values: 63\n",
            "Unique values sample: ['Aerospace & Defense' 'Health Care Services & Hospitals'\n",
            " 'Security Services' 'Energy' 'Advertising & Marketing' 'Real Estate'\n",
            " 'Banks & Credit Unions' 'Consulting' 'Internet' 'Other Retail Stores']\n",
            "\n",
            "Column: Sector\n",
            "Number of unique values: 25\n",
            "Unique values sample: ['Aerospace & Defense' 'Health Care' 'Business Services'\n",
            " 'Oil, Gas, Energy & Utilities' 'Real Estate' 'Finance'\n",
            " 'Information Technology' 'Retail' 'Biotech & Pharmaceuticals' 'Media']\n",
            "\n",
            "Column: Revenue\n",
            "Number of unique values: 14\n",
            "Unique values sample: ['$50 to $100 million (USD)' '$2 to $5 billion (USD)'\n",
            " '$100 to $500 million (USD)' '$500 million to $1 billion (USD)'\n",
            " 'Unknown / Non-Applicable' '$1 to $2 billion (USD)'\n",
            " '$25 to $50 million (USD)' '$10+ billion (USD)' '$1 to $5 million (USD)'\n",
            " '$10 to $25 million (USD)']\n",
            "\n",
            "Column: Competitors\n",
            "Number of unique values: 149\n",
            "Unique values sample: ['-1'\n",
            " 'Oak Ridge National Laboratory, National Renewable Energy Lab, Los Alamos National Laboratory'\n",
            " 'Commerce Signals, Cardlytics, Yodlee'\n",
            " 'Digital Realty, CoreSite, Equinix' 'Clicktripz, SmarterTravel'\n",
            " 'Target, Costco Wholesale, Amazon' 'Novartis, Baxter, Pfizer'\n",
            " 'bluebird bio, Agios Pharmaceuticals, Celgene'\n",
            " \"Angie's List, HomeAdvisor, Thumbtack\"\n",
            " 'Leidos, CACI International, Booz Allen Hamilton']\n"
          ]
        }
      ]
    },
    {
      "cell_type": "markdown",
      "source": [
        "## 3. ***Data Wrangling***"
      ],
      "metadata": {
        "id": "dauF4eBmngu3"
      }
    },
    {
      "cell_type": "markdown",
      "source": [
        "### Data Wrangling Code"
      ],
      "metadata": {
        "id": "bKJF3rekwFvQ"
      }
    },
    {
      "cell_type": "code",
      "source": [
        "# Write your code to make your dataset analysis ready.\n",
        "# Create job title category\n",
        "df['job_title_category'] = df['Job Title'].apply(lambda x: 'Data Scientist' if 'data scientist' in x.lower()\n",
        "                                                 else 'Software Engineer' if 'software engineer' in x.lower()\n",
        "                                                 else 'DevOps' if 'devops' in x.lower()\n",
        "                                                 else 'Other')\n",
        "\n",
        "# Convert company size to ordered categories\n",
        "size_order = ['1 to 50 employees', '51 to 200 employees', '201 to 500 employees',\n",
        "              '501 to 1000 employees', '1001 to 5000 employees', '5001+ employees', 'Unknown']\n",
        "df['company_size'] = pd.Categorical(df['Size'], categories=size_order, ordered=True)\n",
        "\n",
        "# Extract state from location\n",
        "df['state'] = df['Location'].str.split(',').str[-1].str.strip()\n",
        "\n",
        "df['avg_salary'] = df['Salary Estimate'].str.extract(r'(\\d+)', expand=False).astype(float)\n",
        "df['num_comp'] = df['Competitors'].fillna('').apply(lambda x: len(x.split(',')) if x != '-1' else 0)\n",
        "df['sdesc_len'] = df['Job Description'].str.len()\n",
        "\n",
        "# Feature selection\n",
        "features = ['job_title_category', 'company_size', 'state', 'avg_salary', 'sdesc_len', 'num_comp']\n",
        "df_model = df[features].dropna()\n",
        "\n",
        "print(df_model.head())\n"
      ],
      "metadata": {
        "id": "wk-9a2fpoLcV",
        "colab": {
          "base_uri": "https://localhost:8080/",
          "height": 0
        },
        "outputId": "2249f62b-9080-401a-971f-9a2882417af9"
      },
      "execution_count": 23,
      "outputs": [
        {
          "output_type": "stream",
          "name": "stdout",
          "text": [
            "  job_title_category            company_size state  avg_salary  sdesc_len  \\\n",
            "0     Data Scientist   501 to 1000 employees    NM        53.0       2536   \n",
            "2     Data Scientist   501 to 1000 employees    FL        80.0       3461   \n",
            "3     Data Scientist  1001 to 5000 employees    WA        56.0       3883   \n",
            "4     Data Scientist     51 to 200 employees    NY        86.0       2728   \n",
            "5     Data Scientist    201 to 500 employees    TX        71.0       3747   \n",
            "\n",
            "   num_comp  \n",
            "0         0  \n",
            "2         0  \n",
            "3         3  \n",
            "4         3  \n",
            "5         3  \n"
          ]
        }
      ]
    },
    {
      "cell_type": "markdown",
      "source": [
        "### What all manipulations have you done and insights you found?"
      ],
      "metadata": {
        "id": "MSa1f5Uengrz"
      }
    },
    {
      "cell_type": "markdown",
      "source": [
        "The dataset has been modified and new features have been added - job_title_category, the conpany size has been converted to ordered categories, the state has been extracted from the location variable, 'job_title_category', 'company_size', 'state', 'avg_salary', 'sdesc_len', 'num_comp' these features have been selected among all of them."
      ],
      "metadata": {
        "id": "LbyXE7I1olp8"
      }
    },
    {
      "cell_type": "markdown",
      "source": [
        "## ***4. Data Vizualization, Storytelling & Experimenting with charts : Understand the relationships between variables***"
      ],
      "metadata": {
        "id": "GF8Ens_Soomf"
      }
    },
    {
      "cell_type": "markdown",
      "source": [
        "#### Chart - 1"
      ],
      "metadata": {
        "id": "0wOQAZs5pc--"
      }
    },
    {
      "cell_type": "code",
      "source": [
        "# Chart 1: Salary Distribution by Job Category\n",
        "plt.figure(figsize=(12,6))\n",
        "sns.boxplot(x='job_title_category', y='avg_salary', data=df)\n",
        "plt.title('Salary Distribution by Job Category')\n",
        "plt.xlabel('Job Category')\n",
        "plt.ylabel('Average Salary ($)')\n",
        "plt.show()"
      ],
      "metadata": {
        "id": "7v_ESjsspbW7",
        "colab": {
          "base_uri": "https://localhost:8080/",
          "height": 565
        },
        "outputId": "7e7b5ef5-6240-4ed4-a18f-805ab3b6c88d"
      },
      "execution_count": 24,
      "outputs": [
        {
          "output_type": "display_data",
          "data": {
            "text/plain": [
              "<Figure size 1200x600 with 1 Axes>"
            ],
            "image/png": "[encoded data removed]"
          },
          "metadata": {}
        }
      ]
    },
    {
      "cell_type": "markdown",
      "source": [
        "##### 1. Why did you pick the specific chart?"
      ],
      "metadata": {
        "id": "K5QZ13OEpz2H"
      }
    },
    {
      "cell_type": "markdown",
      "source": [
        "Box plot shows proper visualization of each category in the variable."
      ],
      "metadata": {
        "id": "XESiWehPqBRc"
      }
    },
    {
      "cell_type": "markdown",
      "source": [
        "##### 2. What is/are the insight(s) found from the chart?"
      ],
      "metadata": {
        "id": "lQ7QKXXCp7Bj"
      }
    },
    {
      "cell_type": "markdown",
      "source": [
        "Data Scientists tend to have higher median salaries than Software Engineers. DevOps roles show the highest salary ranges. This helps job seekers understand which roles command higher salaries.\n",
        "\n",
        ""
      ],
      "metadata": {
        "id": "C_j1G7yiqdRP"
      }
    },
    {
      "cell_type": "markdown",
      "source": [
        "##### 3. Will the gained insights help creating a positive business impact?\n",
        "Are there any insights that lead to negative growth? Justify with specific reason."
      ],
      "metadata": {
        "id": "448CDAPjqfQr"
      }
    },
    {
      "cell_type": "markdown",
      "source": [
        "There is less average salary for software developers."
      ],
      "metadata": {
        "id": "3cspy4FjqxJW"
      }
    },
    {
      "cell_type": "markdown",
      "source": [
        "#### Chart - 2"
      ],
      "metadata": {
        "id": "KSlN3yHqYklG"
      }
    },
    {
      "cell_type": "code",
      "source": [
        "# Chart 2: Salary vs Company Size\n",
        "plt.figure(figsize=(12,6))\n",
        "sns.boxplot(x='company_size', y='avg_salary', data=df)\n",
        "plt.title('Salary Distribution by Company Size')\n",
        "plt.xlabel('Company Size')\n",
        "plt.ylabel('Average Salary ($)')\n",
        "plt.xticks(rotation=45)\n",
        "plt.show()"
      ],
      "metadata": {
        "id": "R4YgtaqtYklH",
        "colab": {
          "base_uri": "https://localhost:8080/",
          "height": 682
        },
        "outputId": "79e11953-dcfc-4982-a8df-3c9a96063bce"
      },
      "execution_count": 25,
      "outputs": [
        {
          "output_type": "display_data",
          "data": {
            "text/plain": [
              "<Figure size 1200x600 with 1 Axes>"
            ],
            "image/png": "[encoded data removed]"
          },
          "metadata": {}
        }
      ]
    },
    {
      "cell_type": "markdown",
      "source": [
        "##### 1. Why did you pick the specific chart?"
      ],
      "metadata": {
        "id": "t6dVpIINYklI"
      }
    },
    {
      "cell_type": "markdown",
      "source": [
        "The boxplot helps visualize different categories of company size."
      ],
      "metadata": {
        "id": "5aaW0BYyYklI"
      }
    },
    {
      "cell_type": "markdown",
      "source": [
        "##### 2. What is/are the insight(s) found from the chart?"
      ],
      "metadata": {
        "id": "ijmpgYnKYklI"
      }
    },
    {
      "cell_type": "markdown",
      "source": [
        "From the plot, Larger companies generally offer higher salaries. Companies with 5001+ employees have the highest median salaries. It helps employers benchmark their compensation against competitors.\n",
        "\n"
      ],
      "metadata": {
        "id": "PSx9atu2YklI"
      }
    },
    {
      "cell_type": "markdown",
      "source": [
        "##### 3. Will the gained insights help creating a positive business impact?\n",
        "Are there any insights that lead to negative growth? Justify with specific reason."
      ],
      "metadata": {
        "id": "-JiQyfWJYklI"
      }
    },
    {
      "cell_type": "markdown",
      "source": [
        "No."
      ],
      "metadata": {
        "id": "BcBbebzrYklV"
      }
    },
    {
      "cell_type": "markdown",
      "source": [
        "#### Chart - 3"
      ],
      "metadata": {
        "id": "EM7whBJCYoAo"
      }
    },
    {
      "cell_type": "code",
      "source": [
        "# Chart - 3 visualization code# Chart 3: Top Paying States\n",
        "top_states = df.groupby('state')['avg_salary'].mean().sort_values(ascending=False).head(10)\n",
        "plt.figure(figsize=(12,6))\n",
        "sns.barplot(x=top_states.index, y=top_states.values)\n",
        "plt.title('Top 10 Highest Paying States')\n",
        "plt.xlabel('State')\n",
        "plt.ylabel('Average Salary ($)')\n",
        "plt.xticks(rotation=45)\n",
        "plt.show()\n"
      ],
      "metadata": {
        "id": "t6GMdE67YoAp",
        "colab": {
          "base_uri": "https://localhost:8080/",
          "height": 576
        },
        "outputId": "8c2d35f5-37fd-4118-9b00-54a451df86f2"
      },
      "execution_count": 26,
      "outputs": [
        {
          "output_type": "display_data",
          "data": {
            "text/plain": [
              "<Figure size 1200x600 with 1 Axes>"
            ],
            "image/png": "[encoded data removed]"
          },
          "metadata": {}
        }
      ]
    },
    {
      "cell_type": "markdown",
      "source": [
        "##### 1. Why did you pick the specific chart?"
      ],
      "metadata": {
        "id": "fge-S5ZAYoAp"
      }
    },
    {
      "cell_type": "markdown",
      "source": [
        "The barplot helps visualize which is highest and lowest paying state."
      ],
      "metadata": {
        "id": "5dBItgRVYoAp"
      }
    },
    {
      "cell_type": "markdown",
      "source": [
        "##### 2. What is/are the insight(s) found from the chart?"
      ],
      "metadata": {
        "id": "85gYPyotYoAp"
      }
    },
    {
      "cell_type": "markdown",
      "source": [
        "DC offers the highest average salaries. IL and NC are also high-paying states. It helps job seekers prioritize locations for job search.\n"
      ],
      "metadata": {
        "id": "4jstXR6OYoAp"
      }
    },
    {
      "cell_type": "markdown",
      "source": [
        "##### 3. Will the gained insights help creating a positive business impact?\n",
        "Are there any insights that lead to negative growth? Justify with specific reason."
      ],
      "metadata": {
        "id": "RoGjAbkUYoAp"
      }
    },
    {
      "cell_type": "markdown",
      "source": [
        "No."
      ],
      "metadata": {
        "id": "zfJ8IqMcYoAp"
      }
    },
    {
      "cell_type": "markdown",
      "source": [
        "#### Chart - 5 - Correlation Heatmap"
      ],
      "metadata": {
        "id": "NC_X3p0fY2L0"
      }
    },
    {
      "cell_type": "code",
      "source": [
        "# Correlation Heatmap visualization code\n",
        "numeric_cols = ['avg_salary', 'sdesc_len', 'num_comp']\n",
        "plt.figure(figsize=(10,6))\n",
        "sns.heatmap(df[numeric_cols].corr(), annot=True, cmap='coolwarm')\n",
        "plt.title('Correlation Heatmap')\n",
        "plt.show()"
      ],
      "metadata": {
        "id": "xyC9zolEZNRQ",
        "colab": {
          "base_uri": "https://localhost:8080/",
          "height": 546
        },
        "outputId": "51b8aa5a-4b79-4364-b580-c21e628c7676"
      },
      "execution_count": 27,
      "outputs": [
        {
          "output_type": "display_data",
          "data": {
            "text/plain": [
              "<Figure size 1000x600 with 2 Axes>"
            ],
            "image/png": "[encoded data removed]"
          },
          "metadata": {}
        }
      ]
    },
    {
      "cell_type": "markdown",
      "source": [
        "##### 1. Why did you pick the specific chart?"
      ],
      "metadata": {
        "id": "UV0SzAkaZNRQ"
      }
    },
    {
      "cell_type": "markdown",
      "source": [
        "The correlation heatmap visualizes which variable is correlated mode with other variable."
      ],
      "metadata": {
        "id": "DVPuT8LYZNRQ"
      }
    },
    {
      "cell_type": "markdown",
      "source": [
        "##### 2. What is/are the insight(s) found from the chart?"
      ],
      "metadata": {
        "id": "YPEH6qLeZNRQ"
      }
    },
    {
      "cell_type": "markdown",
      "source": [
        "The variable num_comp (number of competitors) shows slight positive correlation with salary and sdesc_len has minimal correlation with salary."
      ],
      "metadata": {
        "id": "bfSqtnDqZNRR"
      }
    },
    {
      "cell_type": "markdown",
      "source": [
        "## ***5. Hypothesis Testing***"
      ],
      "metadata": {
        "id": "g-ATYxFrGrvw"
      }
    },
    {
      "cell_type": "markdown",
      "source": [
        "### Based on your chart experiments, define three hypothetical statements from the dataset. In the next three questions, perform hypothesis testing to obtain final conclusion about the statements through your code and statistical testing."
      ],
      "metadata": {
        "id": "Yfr_Vlr8HBkt"
      }
    },
    {
      "cell_type": "markdown",
      "source": [
        "Answer Here."
      ],
      "metadata": {
        "id": "-7MS06SUHkB-"
      }
    },
    {
      "cell_type": "markdown",
      "source": [
        "### Hypothetical Statement - 1"
      ],
      "metadata": {
        "id": "8yEUt7NnHlrM"
      }
    },
    {
      "cell_type": "markdown",
      "source": [
        "#### 1. State Your research hypothesis as a null hypothesis and alternate hypothesis."
      ],
      "metadata": {
        "id": "tEA2Xm5dHt1r"
      }
    },
    {
      "cell_type": "markdown",
      "source": [
        "Do \"DevOps\" roles have a significantly higher average salary than \"Data Scientist\" roles?\n",
        "Null hypothesis: There is no significant difference in the average salary between \"DevOps\" roles and \"Data Scientist\" roles.\n",
        "Alternate hypothesis: \"DevOps\" roles have a significantly higher average salary than \"Data Scientist\" roles."
      ],
      "metadata": {
        "id": "HI9ZP0laH0D-"
      }
    },
    {
      "cell_type": "markdown",
      "source": [
        "#### 2. Perform an appropriate statistical test."
      ],
      "metadata": {
        "id": "I79__PHVH19G"
      }
    },
    {
      "cell_type": "code",
      "source": [
        "# Perform Statistical Test to obtain P-Value\n",
        "from scipy import stats\n",
        "\n",
        "# Filter data for the two groups\n",
        "devops_salaries = df[df['job_title_category'] == 'DevOps']['avg_salary']\n",
        "data_scientist_salaries = df[df['job_title_category'] == 'Data Scientist']['avg_salary']\n",
        "t_stat, p_value = stats.ttest_ind(devops_salaries, data_scientist_salaries, equal_var=False, alternative='greater')\n",
        "\n",
        "print(f\"T-statistic: {t_stat}\")\n",
        "print(f\"P-value: {p_value}\")\n",
        "alpha = 0.05\n",
        "\n",
        "# Make a decision\n",
        "if p_value < alpha:\n",
        "    print(\"Reject the null hypothesis. DevOps roles have a significantly higher average salary than Data Scientist roles.\")\n",
        "else:\n",
        "    print(\"Fail to reject the null hypothesis. There is no significant difference in average salary or DevOps roles do not have a significantly higher average salary.\")"
      ],
      "metadata": {
        "id": "oZrfquKtyian",
        "colab": {
          "base_uri": "https://localhost:8080/",
          "height": 0
        },
        "outputId": "e83706d1-5cd4-4936-8b7f-b6f5e13dd904"
      },
      "execution_count": 30,
      "outputs": [
        {
          "output_type": "stream",
          "name": "stdout",
          "text": [
            "T-statistic: 4.169296155876701\n",
            "P-value: 0.00909511827594871\n",
            "Reject the null hypothesis. DevOps roles have a significantly higher average salary than Data Scientist roles.\n"
          ]
        }
      ]
    },
    {
      "cell_type": "markdown",
      "source": [
        "##### Which statistical test have you done to obtain P-Value?"
      ],
      "metadata": {
        "id": "Ou-I18pAyIpj"
      }
    },
    {
      "cell_type": "markdown",
      "source": [
        "An Independent Samples t-test was performed."
      ],
      "metadata": {
        "id": "s2U0kk00ygSB"
      }
    },
    {
      "cell_type": "markdown",
      "source": [
        "##### Why did you choose the specific statistical test?"
      ],
      "metadata": {
        "id": "fF3858GYyt-u"
      }
    },
    {
      "cell_type": "markdown",
      "source": [
        "An independent samples t-test is appropriate here because we are comparing the means of two independent groups (DevOps salaries vs. Data Scientist salaries) to see if there's a significant difference between them."
      ],
      "metadata": {
        "id": "HO4K0gP5y3B4"
      }
    },
    {
      "cell_type": "markdown",
      "source": [
        "### Hypothetical Statement - 2"
      ],
      "metadata": {
        "id": "4_0_7-oCpUZd"
      }
    },
    {
      "cell_type": "markdown",
      "source": [
        "#### 1. State Your research hypothesis as a null hypothesis and alternate hypothesis."
      ],
      "metadata": {
        "id": "hwyV_J3ipUZe"
      }
    },
    {
      "cell_type": "markdown",
      "source": [
        "Do companies with '5001+ employees' offer significantly higher average salaries than companies with '1 to 50 employees'?\n",
        "\n",
        "Null Hypothesis: There is no significant difference in the average salary between companies with '5001+ employees' and companies with '1 to 50 employees'.\n",
        "\n",
        "Alternate Hypothesis: Companies with '5001+ employees' offer significantly higher average salaries than companies with '1 to 50 employees'."
      ],
      "metadata": {
        "id": "FnpLGJ-4pUZe"
      }
    },
    {
      "cell_type": "markdown",
      "source": [
        "#### 2. Perform an appropriate statistical test."
      ],
      "metadata": {
        "id": "3yB-zSqbpUZe"
      }
    },
    {
      "cell_type": "code",
      "source": [
        "# Perform Statistical Test to obtain P-Value\n",
        "from scipy import stats\n",
        "\n",
        "# Filter data for the two company size groups\n",
        "salaries_5001_plus = df[df['company_size'] == '5001+ employees']['avg_salary']\n",
        "salaries_1_to_50 = df[df['company_size'] == '1 to 50 employees']['avg_salary']\n",
        "\n",
        "# Perform independent samples t-test\n",
        "t_stat, p_value = stats.ttest_ind(salaries_5001_plus, salaries_1_to_50, equal_var=False, alternative='greater')\n",
        "\n",
        "print(f\"T-statistic: {t_stat}\")\n",
        "print(f\"P-value: {p_value}\")\n",
        "alpha = 0.05\n",
        "\n",
        "# Make a decision\n",
        "if p_value < alpha:\n",
        "    print(\"Reject the null hypothesis. Companies with 5001+ employees offer significantly higher average salaries than companies with 1 to 50 employees.\")\n",
        "else:\n",
        "   print(\"Fail to reject the null hypothesis. There is no significant difference in average salary or companies with 5001+ employees do not offer significantly higher average salaries.\")"
      ],
      "metadata": {
        "id": "sWxdNTXNpUZe",
        "colab": {
          "base_uri": "https://localhost:8080/",
          "height": 0
        },
        "outputId": "335d8c45-e5a6-4f9b-c886-f551263a7774"
      },
      "execution_count": 33,
      "outputs": [
        {
          "output_type": "stream",
          "name": "stdout",
          "text": [
            "T-statistic: nan\n",
            "P-value: nan\n",
            "Fail to reject the null hypothesis. There is no significant difference in average salary or companies with 5001+ employees do not offer significantly higher average salaries.\n"
          ]
        }
      ]
    },
    {
      "cell_type": "markdown",
      "source": [
        "##### Which statistical test have you done to obtain P-Value?"
      ],
      "metadata": {
        "id": "dEUvejAfpUZe"
      }
    },
    {
      "cell_type": "markdown",
      "source": [
        "An Independent Samples t-test was performed."
      ],
      "metadata": {
        "id": "oLDrPz7HpUZf"
      }
    },
    {
      "cell_type": "markdown",
      "source": [
        "##### Why did you choose the specific statistical test?"
      ],
      "metadata": {
        "id": "Fd15vwWVpUZf"
      }
    },
    {
      "cell_type": "markdown",
      "source": [
        "Similar to the first hypothesis, an independent samples t-test is used to compare the means of two independent groups (salaries in '5001+ employees' companies vs. '1 to 50 employees' companies)."
      ],
      "metadata": {
        "id": "4xOGYyiBpUZf"
      }
    },
    {
      "cell_type": "markdown",
      "source": [
        "### Hypothetical Statement - 3"
      ],
      "metadata": {
        "id": "bn_IUdTipZyH"
      }
    },
    {
      "cell_type": "markdown",
      "source": [
        "#### 1. State Your research hypothesis as a null hypothesis and alternate hypothesis."
      ],
      "metadata": {
        "id": "49K5P_iCpZyH"
      }
    },
    {
      "cell_type": "markdown",
      "source": [
        "Is the average salary in \"DC\" significantly higher than the average salary in \"IL\"?\n",
        "Null Hypothesis:\n",
        "There is no significant difference in the average salary between \"DC\" and \"IL\".\n",
        "Alternate Hypothesis:\n",
        "The average salary in \"DC\" is significantly higher than the average salary in \"IL\"."
      ],
      "metadata": {
        "id": "7gWI5rT9pZyH"
      }
    },
    {
      "cell_type": "markdown",
      "source": [
        "#### 2. Perform an appropriate statistical test."
      ],
      "metadata": {
        "id": "Nff-vKELpZyI"
      }
    },
    {
      "cell_type": "code",
      "source": [
        "# Perform Statistical Test to obtain P-Value\n",
        "from scipy import stats\n",
        "\n",
        "# Filter data for the two states\n",
        "dc_salaries = df[df['state'] == 'DC']['avg_salary']\n",
        "il_salaries = df[df['state'] == 'IL']['avg_salary']\n",
        "\n",
        "t_stat, p_value = stats.ttest_ind(dc_salaries, il_salaries, equal_var=False, alternative='greater')\n",
        "\n",
        "print(f\"T-statistic: {t_stat}\")\n",
        "print(f\"P-value: {p_value}\")\n",
        "alpha = 0.05\n",
        "\n",
        "# Make a decision\n",
        "if p_value < alpha:\n",
        "    print(\"Reject the null hypothesis. The average salary in DC is significantly higher than the average salary in IL.\")\n",
        "else:\n",
        "    print(\"Fail to reject the null hypothesis. There is no significant difference in average salary or the average salary in DC is not significantly higher than in IL.\")"
      ],
      "metadata": {
        "id": "s6AnJQjtpZyI",
        "colab": {
          "base_uri": "https://localhost:8080/",
          "height": 0
        },
        "outputId": "5132127a-8175-4882-e85f-a064ddfb7a7c"
      },
      "execution_count": 35,
      "outputs": [
        {
          "output_type": "stream",
          "name": "stdout",
          "text": [
            "T-statistic: 0.416629446816612\n",
            "P-value: 0.34126772477298617\n",
            "Fail to reject the null hypothesis. There is no significant difference in average salary or the average salary in DC is not significantly higher than in IL.\n"
          ]
        }
      ]
    },
    {
      "cell_type": "markdown",
      "source": [
        "##### Which statistical test have you done to obtain P-Value?"
      ],
      "metadata": {
        "id": "kLW572S8pZyI"
      }
    },
    {
      "cell_type": "markdown",
      "source": [
        "An Independent Samples t-test was performed."
      ],
      "metadata": {
        "id": "ytWJ8v15pZyI"
      }
    },
    {
      "cell_type": "markdown",
      "source": [
        "##### Why did you choose the specific statistical test?"
      ],
      "metadata": {
        "id": "dWbDXHzopZyI"
      }
    },
    {
      "cell_type": "markdown",
      "source": [
        "Similar to the previous hypotheses, an independent samples t-test is suitable for comparing the means of average salaries in two distinct states."
      ],
      "metadata": {
        "id": "M99G98V6pZyI"
      }
    },
    {
      "cell_type": "markdown",
      "source": [
        "## ***6. Feature Engineering & Data Pre-processing***"
      ],
      "metadata": {
        "id": "yLjJCtPM0KBk"
      }
    },
    {
      "cell_type": "markdown",
      "source": [
        "### 1. Handling Missing Values"
      ],
      "metadata": {
        "id": "xiyOF9F70UgQ"
      }
    },
    {
      "cell_type": "code",
      "source": [
        "# Handling Missing Values & Missing Value Imputation"
      ],
      "metadata": {
        "id": "iRsAHk1K0fpS"
      },
      "execution_count": null,
      "outputs": []
    },
    {
      "cell_type": "markdown",
      "source": [
        "#### What all missing value imputation techniques have you used and why did you use those techniques?"
      ],
      "metadata": {
        "id": "7wuGOrhz0itI"
      }
    },
    {
      "cell_type": "markdown",
      "source": [
        "There were no missing values in the datset as computed before in the file. hence there was no need to handle them."
      ],
      "metadata": {
        "id": "1ixusLtI0pqI"
      }
    },
    {
      "cell_type": "markdown",
      "source": [
        "### 2. Handling Outliers"
      ],
      "metadata": {
        "id": "id1riN9m0vUs"
      }
    },
    {
      "cell_type": "code",
      "source": [
        "# Handling Outliers & Outlier treatments\n",
        "def remove_outliers_iqr(df, columns):\n",
        "    for col in columns:\n",
        "        Q1 = df[col].quantile(0.25)\n",
        "        Q3 = df[col].quantile(0.75)\n",
        "        IQR = Q3 - Q1\n",
        "        lower_bound = Q1 - 1.5 * IQR\n",
        "        upper_bound = Q3 + 1.5 * IQR\n",
        "\n",
        "        original_count = df.shape[0]\n",
        "        df = df[(df[col] >= lower_bound) & (df[col] <= upper_bound)]\n",
        "        new_count = df.shape[0]\n",
        "        print(f\"{col}: Removed {original_count - new_count} outliers\")\n",
        "    return df\n",
        "\n",
        "# Select numeric columns\n",
        "numeric_columns = ['avg_salary', 'sdesc_len', 'num_comp']\n",
        "\n",
        "# Apply outlier removal\n",
        "df_no_outliers = remove_outliers_iqr(df_model, numeric_columns)\n",
        "\n",
        "# Preview the cleaned dataset\n",
        "df_no_outliers.describe()\n"
      ],
      "metadata": {
        "id": "M6w2CzZf04JK",
        "colab": {
          "base_uri": "https://localhost:8080/",
          "height": 342
        },
        "outputId": "0347e254-14fc-4ec5-85fc-fda7421e687f"
      },
      "execution_count": 36,
      "outputs": [
        {
          "output_type": "stream",
          "name": "stdout",
          "text": [
            "avg_salary: Removed 6 outliers\n",
            "sdesc_len: Removed 18 outliers\n",
            "num_comp: Removed 0 outliers\n"
          ]
        },
        {
          "output_type": "execute_result",
          "data": {
            "text/plain": [
              "       avg_salary    sdesc_len    num_comp\n",
              "count  688.000000   688.000000  688.000000\n",
              "mean    53.393895  3552.158430    0.773256\n",
              "std     39.107739  1380.048619    1.249529\n",
              "min      1.000000   407.000000    0.000000\n",
              "25%      1.000000  2518.000000    0.000000\n",
              "50%     56.000000  3417.000000    0.000000\n",
              "75%     81.000000  4465.250000    2.000000\n",
              "max    176.000000  7383.000000    3.000000"
            ],
            "text/html": [
              "\n",
              "  <div id=\"df-711051e3-bb7f-41cb-a2af-47dd588afbe9\" class=\"colab-df-container\">\n",
              "    <div>\n",
              "<style scoped>\n",
              "    .dataframe tbody tr th:only-of-type {\n",
              "        vertical-align: middle;\n",
              "    }\n",
              "\n",
              "    .dataframe tbody tr th {\n",
              "        vertical-align: top;\n",
              "    }\n",
              "\n",
              "    .dataframe thead th {\n",
              "        text-align: right;\n",
              "    }\n",
              "</style>\n",
              "<table border=\"1\" class=\"dataframe\">\n",
              "  <thead>\n",
              "    <tr style=\"text-align: right;\">\n",
              "      <th></th>\n",
              "      <th>avg_salary</th>\n",
              "      <th>sdesc_len</th>\n",
              "      <th>num_comp</th>\n",
              "    </tr>\n",
              "  </thead>\n",
              "  <tbody>\n",
              "    <tr>\n",
              "      <th>count</th>\n",
              "      <td>688.000000</td>\n",
              "      <td>688.000000</td>\n",
              "      <td>688.000000</td>\n",
              "    </tr>\n",
              "    <tr>\n",
              "      <th>mean</th>\n",
              "      <td>53.393895</td>\n",
              "      <td>3552.158430</td>\n",
              "      <td>0.773256</td>\n",
              "    </tr>\n",
              "    <tr>\n",
              "      <th>std</th>\n",
              "      <td>39.107739</td>\n",
              "      <td>1380.048619</td>\n",
              "      <td>1.249529</td>\n",
              "    </tr>\n",
              "    <tr>\n",
              "      <th>min</th>\n",
              "      <td>1.000000</td>\n",
              "      <td>407.000000</td>\n",
              "      <td>0.000000</td>\n",
              "    </tr>\n",
              "    <tr>\n",
              "      <th>25%</th>\n",
              "      <td>1.000000</td>\n",
              "      <td>2518.000000</td>\n",
              "      <td>0.000000</td>\n",
              "    </tr>\n",
              "    <tr>\n",
              "      <th>50%</th>\n",
              "      <td>56.000000</td>\n",
              "      <td>3417.000000</td>\n",
              "      <td>0.000000</td>\n",
              "    </tr>\n",
              "    <tr>\n",
              "      <th>75%</th>\n",
              "      <td>81.000000</td>\n",
              "      <td>4465.250000</td>\n",
              "      <td>2.000000</td>\n",
              "    </tr>\n",
              "    <tr>\n",
              "      <th>max</th>\n",
              "      <td>176.000000</td>\n",
              "      <td>7383.000000</td>\n",
              "      <td>3.000000</td>\n",
              "    </tr>\n",
              "  </tbody>\n",
              "</table>\n",
              "</div>\n",
              "    <div class=\"colab-df-buttons\">\n",
              "\n",
              "  <div class=\"colab-df-container\">\n",
              "    <button class=\"colab-df-convert\" onclick=\"convertToInteractive('df-711051e3-bb7f-41cb-a2af-47dd588afbe9')\"\n",
              "            title=\"Convert this dataframe to an interactive table.\"\n",
              "            style=\"display:none;\">\n",
              "\n",
              "  <svg xmlns=\"http://www.w3.org/2000/svg\" height=\"24px\" viewBox=\"0 -960 960 960\">\n",
              "    <path d=\"M120-120v-720h720v720H120Zm60-500h600v-160H180v160Zm220 220h160v-160H400v160Zm0 220h160v-160H400v160ZM180-400h160v-160H180v160Zm440 0h160v-160H620v160ZM180-180h160v-160H180v160Zm440 0h160v-160H620v160Z\"/>\n",
              "  </svg>\n",
              "    </button>\n",
              "\n",
              "  <style>\n",
              "    .colab-df-container {\n",
              "      display:flex;\n",
              "      gap: 12px;\n",
              "    }\n",
              "\n",
              "    .colab-df-convert {\n",
              "      background-color: #E8F0FE;\n",
              "      border: none;\n",
              "      border-radius: 50%;\n",
              "      cursor: pointer;\n",
              "      display: none;\n",
              "      fill: #1967D2;\n",
              "      height: 32px;\n",
              "      padding: 0 0 0 0;\n",
              "      width: 32px;\n",
              "    }\n",
              "\n",
              "    .colab-df-convert:hover {\n",
              "      background-color: #E2EBFA;\n",
              "      box-shadow: 0px 1px 2px rgba(60, 64, 67, 0.3), 0px 1px 3px 1px rgba(60, 64, 67, 0.15);\n",
              "      fill: #174EA6;\n",
              "    }\n",
              "\n",
              "    .colab-df-buttons div {\n",
              "      margin-bottom: 4px;\n",
              "    }\n",
              "\n",
              "    [theme=dark] .colab-df-convert {\n",
              "      background-color: #3B4455;\n",
              "      fill: #D2E3FC;\n",
              "    }\n",
              "\n",
              "    [theme=dark] .colab-df-convert:hover {\n",
              "      background-color: #434B5C;\n",
              "      box-shadow: 0px 1px 3px 1px rgba(0, 0, 0, 0.15);\n",
              "      filter: drop-shadow(0px 1px 2px rgba(0, 0, 0, 0.3));\n",
              "      fill: #FFFFFF;\n",
              "    }\n",
              "  </style>\n",
              "\n",
              "    <script>\n",
              "      const buttonEl =\n",
              "        document.querySelector('#df-711051e3-bb7f-41cb-a2af-47dd588afbe9 button.colab-df-convert');\n",
              "      buttonEl.style.display =\n",
              "        google.colab.kernel.accessAllowed ? 'block' : 'none';\n",
              "\n",
              "      async function convertToInteractive(key) {\n",
              "        const element = document.querySelector('#df-711051e3-bb7f-41cb-a2af-47dd588afbe9');\n",
              "        const dataTable =\n",
              "          await google.colab.kernel.invokeFunction('convertToInteractive',\n",
              "                                                    [key], {});\n",
              "        if (!dataTable) return;\n",
              "\n",
              "        const docLinkHtml = 'Like what you see? Visit the ' +\n",
              "          '<a target=\"_blank\" href=https://colab.research.google.com/notebooks/data_table.ipynb>data table notebook</a>'\n",
              "          + ' to learn more about interactive tables.';\n",
              "        element.innerHTML = '';\n",
              "        dataTable['output_type'] = 'display_data';\n",
              "        await google.colab.output.renderOutput(dataTable, element);\n",
              "        const docLink = document.createElement('div');\n",
              "        docLink.innerHTML = docLinkHtml;\n",
              "        element.appendChild(docLink);\n",
              "      }\n",
              "    </script>\n",
              "  </div>\n",
              "\n",
              "\n",
              "    <div id=\"df-f58179d1-c6ef-44fb-92ae-fa90567b0077\">\n",
              "      <button class=\"colab-df-quickchart\" onclick=\"quickchart('df-f58179d1-c6ef-44fb-92ae-fa90567b0077')\"\n",
              "                title=\"Suggest charts\"\n",
              "                style=\"display:none;\">\n",
              "\n",
              "<svg xmlns=\"http://www.w3.org/2000/svg\" height=\"24px\"viewBox=\"0 0 24 24\"\n",
              "     width=\"24px\">\n",
              "    <g>\n",
              "        <path d=\"M19 3H5c-1.1 0-2 .9-2 2v14c0 1.1.9 2 2 2h14c1.1 0 2-.9 2-2V5c0-1.1-.9-2-2-2zM9 17H7v-7h2v7zm4 0h-2V7h2v10zm4 0h-2v-4h2v4z\"/>\n",
              "    </g>\n",
              "</svg>\n",
              "      </button>\n",
              "\n",
              "<style>\n",
              "  .colab-df-quickchart {\n",
              "      --bg-color: #E8F0FE;\n",
              "      --fill-color: #1967D2;\n",
              "      --hover-bg-color: #E2EBFA;\n",
              "      --hover-fill-color: #174EA6;\n",
              "      --disabled-fill-color: #AAA;\n",
              "      --disabled-bg-color: #DDD;\n",
              "  }\n",
              "\n",
              "  [theme=dark] .colab-df-quickchart {\n",
              "      --bg-color: #3B4455;\n",
              "      --fill-color: #D2E3FC;\n",
              "      --hover-bg-color: #434B5C;\n",
              "      --hover-fill-color: #FFFFFF;\n",
              "      --disabled-bg-color: #3B4455;\n",
              "      --disabled-fill-color: #666;\n",
              "  }\n",
              "\n",
              "  .colab-df-quickchart {\n",
              "    background-color: var(--bg-color);\n",
              "    border: none;\n",
              "    border-radius: 50%;\n",
              "    cursor: pointer;\n",
              "    display: none;\n",
              "    fill: var(--fill-color);\n",
              "    height: 32px;\n",
              "    padding: 0;\n",
              "    width: 32px;\n",
              "  }\n",
              "\n",
              "  .colab-df-quickchart:hover {\n",
              "    background-color: var(--hover-bg-color);\n",
              "    box-shadow: 0 1px 2px rgba(60, 64, 67, 0.3), 0 1px 3px 1px rgba(60, 64, 67, 0.15);\n",
              "    fill: var(--button-hover-fill-color);\n",
              "  }\n",
              "\n",
              "  .colab-df-quickchart-complete:disabled,\n",
              "  .colab-df-quickchart-complete:disabled:hover {\n",
              "    background-color: var(--disabled-bg-color);\n",
              "    fill: var(--disabled-fill-color);\n",
              "    box-shadow: none;\n",
              "  }\n",
              "\n",
              "  .colab-df-spinner {\n",
              "    border: 2px solid var(--fill-color);\n",
              "    border-color: transparent;\n",
              "    border-bottom-color: var(--fill-color);\n",
              "    animation:\n",
              "      spin 1s steps(1) infinite;\n",
              "  }\n",
              "\n",
              "  @keyframes spin {\n",
              "    0% {\n",
              "      border-color: transparent;\n",
              "      border-bottom-color: var(--fill-color);\n",
              "      border-left-color: var(--fill-color);\n",
              "    }\n",
              "    20% {\n",
              "      border-color: transparent;\n",
              "      border-left-color: var(--fill-color);\n",
              "      border-top-color: var(--fill-color);\n",
              "    }\n",
              "    30% {\n",
              "      border-color: transparent;\n",
              "      border-left-color: var(--fill-color);\n",
              "      border-top-color: var(--fill-color);\n",
              "      border-right-color: var(--fill-color);\n",
              "    }\n",
              "    40% {\n",
              "      border-color: transparent;\n",
              "      border-right-color: var(--fill-color);\n",
              "      border-top-color: var(--fill-color);\n",
              "    }\n",
              "    60% {\n",
              "      border-color: transparent;\n",
              "      border-right-color: var(--fill-color);\n",
              "    }\n",
              "    80% {\n",
              "      border-color: transparent;\n",
              "      border-right-color: var(--fill-color);\n",
              "      border-bottom-color: var(--fill-color);\n",
              "    }\n",
              "    90% {\n",
              "      border-color: transparent;\n",
              "      border-bottom-color: var(--fill-color);\n",
              "    }\n",
              "  }\n",
              "</style>\n",
              "\n",
              "      <script>\n",
              "        async function quickchart(key) {\n",
              "          const quickchartButtonEl =\n",
              "            document.querySelector('#' + key + ' button');\n",
              "          quickchartButtonEl.disabled = true;  // To prevent multiple clicks.\n",
              "          quickchartButtonEl.classList.add('colab-df-spinner');\n",
              "          try {\n",
              "            const charts = await google.colab.kernel.invokeFunction(\n",
              "                'suggestCharts', [key], {});\n",
              "          } catch (error) {\n",
              "            console.error('Error during call to suggestCharts:', error);\n",
              "          }\n",
              "          quickchartButtonEl.classList.remove('colab-df-spinner');\n",
              "          quickchartButtonEl.classList.add('colab-df-quickchart-complete');\n",
              "        }\n",
              "        (() => {\n",
              "          let quickchartButtonEl =\n",
              "            document.querySelector('#df-f58179d1-c6ef-44fb-92ae-fa90567b0077 button');\n",
              "          quickchartButtonEl.style.display =\n",
              "            google.colab.kernel.accessAllowed ? 'block' : 'none';\n",
              "        })();\n",
              "      </script>\n",
              "    </div>\n",
              "\n",
              "    </div>\n",
              "  </div>\n"
            ],
            "application/vnd.google.colaboratory.intrinsic+json": {
              "type": "dataframe",
              "summary": "{\n  \"name\": \"df_no_outliers\",\n  \"rows\": 8,\n  \"fields\": [\n    {\n      \"column\": \"avg_salary\",\n      \"properties\": {\n        \"dtype\": \"number\",\n        \"std\": 229.40414883947537,\n        \"min\": 1.0,\n        \"max\": 688.0,\n        \"num_unique_values\": 7,\n        \"samples\": [\n          688.0,\n          53.39389534883721,\n          81.0\n        ],\n        \"semantic_type\": \"\",\n        \"description\": \"\"\n      }\n    },\n    {\n      \"column\": \"sdesc_len\",\n      \"properties\": {\n        \"dtype\": \"number\",\n        \"std\": 2291.5211153297582,\n        \"min\": 407.0,\n        \"max\": 7383.0,\n        \"num_unique_values\": 8,\n        \"samples\": [\n          3552.158430232558,\n          3417.0,\n          688.0\n        ],\n        \"semantic_type\": \"\",\n        \"description\": \"\"\n      }\n    },\n    {\n      \"column\": \"num_comp\",\n      \"properties\": {\n        \"dtype\": \"number\",\n        \"std\": 242.8924145733927,\n        \"min\": 0.0,\n        \"max\": 688.0,\n        \"num_unique_values\": 6,\n        \"samples\": [\n          688.0,\n          0.7732558139534884,\n          3.0\n        ],\n        \"semantic_type\": \"\",\n        \"description\": \"\"\n      }\n    }\n  ]\n}"
            }
          },
          "metadata": {},
          "execution_count": 36
        }
      ]
    },
    {
      "cell_type": "markdown",
      "source": [
        "##### What all outlier treatment techniques have you used and why did you use those techniques?"
      ],
      "metadata": {
        "id": "578E2V7j08f6"
      }
    },
    {
      "cell_type": "markdown",
      "source": [
        "IQR method has been used to handle the outliers as it helps best to minimize the outliers in the dataset."
      ],
      "metadata": {
        "id": "uGZz5OrT1HH-"
      }
    },
    {
      "cell_type": "markdown",
      "source": [
        "### 3. Categorical Encoding"
      ],
      "metadata": {
        "id": "89xtkJwZ18nB"
      }
    },
    {
      "cell_type": "code",
      "source": [
        "# Encode your categorical columns\n",
        "# Convert company size to ordered categories\n",
        "size_order = ['1 to 50 employees', '51 to 200 employees', '201 to 500 employees',\n",
        "              '501 to 1000 employees', '1001 to 5000 employees', '5001+ employees', 'Unknown']\n",
        "df['company_size'] = pd.Categorical(df['company_size'], categories=size_order, ordered=True)\n"
      ],
      "metadata": {
        "id": "21JmIYMG2hEo"
      },
      "execution_count": 37,
      "outputs": []
    },
    {
      "cell_type": "markdown",
      "source": [
        "#### What all categorical encoding techniques have you used & why did you use those techniques?"
      ],
      "metadata": {
        "id": "67NQN5KX2AMe"
      }
    },
    {
      "cell_type": "markdown",
      "source": [
        "one hot Encoding."
      ],
      "metadata": {
        "id": "UDaue5h32n_G"
      }
    },
    {
      "cell_type": "markdown",
      "source": [
        "### 4. Data Splitting"
      ],
      "metadata": {
        "id": "BhH2vgX9EjGr"
      }
    },
    {
      "cell_type": "code",
      "source": [
        "# Split your data to train and test. Choose Splitting ratio wisely.\n",
        "# Prepare data for modeling\n",
        "X = df.drop('avg_salary', axis=1)\n",
        "y = df['avg_salary']\n",
        "\n",
        "# Split data\n",
        "X_train, X_test, y_train, y_test = train_test_split(X, y, test_size=0.2, random_state=42)\n",
        "numeric_features = ['sdesc_len', 'num_comp']\n",
        "numeric_transformer = Pipeline(steps=[\n",
        "    ('scaler', StandardScaler())])\n",
        "\n",
        "categorical_features = ['job_title_category', 'company_size', 'state']\n",
        "categorical_transformer = Pipeline(steps=[\n",
        "    ('onehot', OneHotEncoder(handle_unknown='ignore'))])\n",
        "\n",
        "preprocessor = ColumnTransformer(\n",
        "    transformers=[\n",
        "        ('num', numeric_transformer, numeric_features),\n",
        "        ('cat', categorical_transformer, categorical_features)])"
      ],
      "metadata": {
        "id": "0CTyd2UwEyNM"
      },
      "execution_count": 40,
      "outputs": []
    },
    {
      "cell_type": "markdown",
      "source": [
        "##### What data splitting ratio have you used and why?"
      ],
      "metadata": {
        "id": "qjKvONjwE8ra"
      }
    },
    {
      "cell_type": "markdown",
      "source": [
        "I have divided the dataset using the ratio 80:20. 80 percent of dataset to training and 20 percent of dataset to test."
      ],
      "metadata": {
        "id": "Y2lJ8cobFDb_"
      }
    },
    {
      "cell_type": "markdown",
      "source": [
        "## ***7. ML Model Implementation***"
      ],
      "metadata": {
        "id": "VfCC591jGiD4"
      }
    },
    {
      "cell_type": "markdown",
      "source": [
        "### ML Model - 1"
      ],
      "metadata": {
        "id": "OB4l2ZhMeS1U"
      }
    },
    {
      "cell_type": "code",
      "source": [
        "# Model pipeline\n",
        "lr_pipeline = Pipeline(steps=[\n",
        "    ('preprocessor', preprocessor),\n",
        "    ('regressor', LinearRegression())\n",
        "])\n",
        "\n",
        "# Fit the Algorithm\n",
        "lr_pipeline.fit(X_train, y_train)\n",
        "\n",
        "# Predict on the model\n",
        "y_pred_lr = lr_pipeline.predict(X_test)\n",
        "\n",
        "# Evaluation\n",
        "print(\"Linear Regression Results:\")\n",
        "print(\"R² Score:\", r2_score(y_test, y_pred_lr))\n",
        "mse = mean_squared_error(y_test, y_pred_lr)\n",
        "rmse = np.sqrt(mse)\n",
        "print(\"RMSE:\", rmse)"
      ],
      "metadata": {
        "id": "7ebyywQieS1U",
        "colab": {
          "base_uri": "https://localhost:8080/",
          "height": 0
        },
        "outputId": "a5847967-5e9e-4f9a-a75f-315c11e0ed2b"
      },
      "execution_count": 44,
      "outputs": [
        {
          "output_type": "stream",
          "name": "stdout",
          "text": [
            "Linear Regression Results:\n",
            "R² Score: 0.1620659144976324\n",
            "RMSE: 37.15313763861418\n"
          ]
        }
      ]
    },
    {
      "cell_type": "markdown",
      "source": [
        "#### 1. Explain the ML Model used and it's performance using Evaluation metric Score Chart."
      ],
      "metadata": {
        "id": "ArJBuiUVfxKd"
      }
    },
    {
      "cell_type": "code",
      "source": [
        "# Visualizing evaluation Metric Score chart\n",
        "r2_lr = r2_score(y_test, y_pred_lr)\n",
        "rmse_lr = np.sqrt(mean_squared_error(y_test, y_pred_lr))\n",
        "\n",
        "# Plot\n",
        "plt.figure(figsize=(5, 4))\n",
        "plt.bar(['R² Score', 'RMSE'], [r2_lr, rmse_lr], color=['skyblue', 'salmon'])\n",
        "plt.title('Linear Regression Evaluation')\n",
        "plt.ylabel('Score')\n",
        "plt.ylim(0, max(r2_lr, rmse_lr) + 1)\n",
        "plt.show()"
      ],
      "metadata": {
        "id": "rqD5ZohzfxKe",
        "colab": {
          "base_uri": "https://localhost:8080/",
          "height": 392
        },
        "outputId": "59a58693-ae75-4cae-e458-1767f2b766a9"
      },
      "execution_count": 45,
      "outputs": [
        {
          "output_type": "display_data",
          "data": {
            "text/plain": [
              "<Figure size 500x400 with 1 Axes>"
            ],
            "image/png": "[encoded data removed]"
          },
          "metadata": {}
        }
      ]
    },
    {
      "cell_type": "markdown",
      "source": [
        "#### 2. Cross- Validation & Hyperparameter Tuning"
      ],
      "metadata": {
        "id": "4qY1EAkEfxKe"
      }
    },
    {
      "cell_type": "code",
      "source": [
        "# Model pipeline with Ridge (Regularized Linear Regression)\n",
        "ridge_pipeline = Pipeline(steps=[\n",
        "    ('preprocessor', preprocessor),\n",
        "    ('regressor', Ridge())\n",
        "])\n",
        "\n",
        "# Define parameter grid\n",
        "param_grid = {\n",
        "    'regressor__alpha': [0.01, 0.1, 1.0, 10.0, 100.0]\n",
        "}\n",
        "\n",
        "# Grid Search\n",
        "grid_search = GridSearchCV(ridge_pipeline, param_grid, cv=5, scoring='r2')\n",
        "grid_search.fit(X_train, y_train)\n",
        "\n",
        "# Best Model\n",
        "best_model = grid_search.best_estimator_\n",
        "\n",
        "# Predict on the model\n",
        "y_pred_ridge = best_model.predict(X_test)\n",
        "\n",
        "# Evaluation\n",
        "r2_ridge = r2_score(y_test, y_pred_ridge)\n",
        "\n",
        "mse = mean_squared_error(y_test, y_pred_lr)\n",
        "rmse = np.sqrt(mse)\n",
        "\n",
        "print(\"Best Hyperparameters:\", grid_search.best_params_)\n",
        "print(\"R² Score:\", r2_ridge)\n",
        "print(\"RMSE:\", rmse)"
      ],
      "metadata": {
        "id": "Dy61ujd6fxKe",
        "colab": {
          "base_uri": "https://localhost:8080/",
          "height": 0
        },
        "outputId": "e2d2cdc7-9df6-473a-99fa-3a795fc732b3"
      },
      "execution_count": 47,
      "outputs": [
        {
          "output_type": "stream",
          "name": "stdout",
          "text": [
            "Best Hyperparameters: {'regressor__alpha': 10.0}\n",
            "R² Score: 0.17355785957890546\n",
            "RMSE: 37.15313763861418\n"
          ]
        }
      ]
    },
    {
      "cell_type": "markdown",
      "source": [
        "##### Which hyperparameter optimization technique have you used and why?"
      ],
      "metadata": {
        "id": "PiV4Ypx8fxKe"
      }
    },
    {
      "cell_type": "markdown",
      "source": [
        "Grid search CV. This is best for choosing the hyperparameters."
      ],
      "metadata": {
        "id": "negyGRa7fxKf"
      }
    },
    {
      "cell_type": "markdown",
      "source": [
        "##### Have you seen any improvement? Note down the improvement with updates Evaluation metric Score Chart."
      ],
      "metadata": {
        "id": "TfvqoZmBfxKf"
      }
    },
    {
      "cell_type": "markdown",
      "source": [
        "There was only very slight improvement after the hyperparameter tuning. the r square value has increased from 0.16 to 0.17 only hence this model is not suitable to use for this dataset."
      ],
      "metadata": {
        "id": "OaLui8CcfxKf"
      }
    },
    {
      "cell_type": "markdown",
      "source": [
        "### ML Model - 2"
      ],
      "metadata": {
        "id": "dJ2tPlVmpsJ0"
      }
    },
    {
      "cell_type": "markdown",
      "source": [
        "#### 1. Explain the ML Model used and it's performance using Evaluation metric Score Chart."
      ],
      "metadata": {
        "id": "JWYfwnehpsJ1"
      }
    },
    {
      "cell_type": "code",
      "source": [
        "# Visualizing evaluation Metric Score chart\n",
        "# Model pipeline\n",
        "rf_pipeline = Pipeline(steps=[\n",
        "    ('preprocessor', preprocessor),\n",
        "    ('regressor', RandomForestRegressor(random_state=42))\n",
        "])\n",
        "\n",
        "# Fit the Algorithm\n",
        "rf_pipeline.fit(X_train, y_train)\n",
        "\n",
        "# Predict on the model\n",
        "y_pred_rf = rf_pipeline.predict(X_test)\n",
        "\n",
        "# Evaluation\n",
        "print(\"\\nRandom Forest Results:\")\n",
        "print(\"R² Score:\", r2_score(y_test, y_pred_rf))\n",
        "np.sqrt(mean_squared_error(y_test, y_pred_rf))\n",
        "rmse = np.sqrt(mse)\n",
        "print(\"RMSE:\", rmse)\n",
        "# Evaluation Metrics\n",
        "r2_rf = r2_score(y_test, y_pred_rf)\n",
        "np.sqrt(mean_squared_error(y_test, y_pred_rf))\n",
        "rmse_rf = np.sqrt(mse)\n",
        "# Plot\n",
        "plt.figure(figsize=(5, 4))\n",
        "plt.bar(['R² Score', 'RMSE'], [r2_rf, rmse_rf], color=['skyblue', 'salmon'])\n",
        "plt.title('Random Forest Evaluation')\n",
        "plt.ylabel('Score')\n",
        "plt.ylim(0, max(r2_rf, rmse_rf) + 1)\n",
        "plt.show()\n"
      ],
      "metadata": {
        "id": "yEl-hgQWpsJ1",
        "colab": {
          "base_uri": "https://localhost:8080/",
          "height": 458
        },
        "outputId": "0aa4601b-dd8c-4b09-a8f3-6c96b523e776"
      },
      "execution_count": 50,
      "outputs": [
        {
          "output_type": "stream",
          "name": "stdout",
          "text": [
            "\n",
            "Random Forest Results:\n",
            "R² Score: 0.6229152103931206\n",
            "RMSE: 37.15313763861418\n"
          ]
        },
        {
          "output_type": "display_data",
          "data": {
            "text/plain": [
              "<Figure size 500x400 with 1 Axes>"
            ],
            "image/png": "[encoded data removed]"
          },
          "metadata": {}
        }
      ]
    },
    {
      "cell_type": "markdown",
      "source": [
        "#### 2. Cross- Validation & Hyperparameter Tuning"
      ],
      "metadata": {
        "id": "-jK_YjpMpsJ2"
      }
    },
    {
      "cell_type": "code",
      "source": [
        "# ML Model - 1 Implementation with hyperparameter optimization techniques (i.e., GridSearch CV, RandomSearch CV, Bayesian Optimization etc.)\n",
        "from sklearn.model_selection import RandomizedSearchCV\n",
        "from scipy.stats import randint\n",
        "# Define updated hyperparameter space\n",
        "param_dist = {\n",
        "    'regressor__n_estimators': randint(100, 500),\n",
        "    'regressor__max_depth': [None, 5, 10, 15, 20, 25, 30],\n",
        "    'regressor__min_samples_split': randint(2, 10),\n",
        "    'regressor__min_samples_leaf': randint(1, 5),\n",
        "    'regressor__max_features': ['auto', 'sqrt', 'log2'],\n",
        "    'regressor__bootstrap': [True, False]\n",
        "}\n",
        "\n",
        "# Redefine the pipeline\n",
        "rf_pipeline = Pipeline(steps=[\n",
        "    ('preprocessor', preprocessor),\n",
        "    ('regressor', RandomForestRegressor(random_state=42))\n",
        "])\n",
        "\n",
        "# Increase number of iterations\n",
        "random_search = RandomizedSearchCV(\n",
        "    rf_pipeline,\n",
        "    param_distributions=param_dist,\n",
        "    n_iter=50,\n",
        "    cv=5,\n",
        "    scoring='r2',\n",
        "    random_state=42,\n",
        "    n_jobs=-1,\n",
        "    verbose=2\n",
        ")\n",
        "\n",
        "# RandomizedSearchCV\n",
        "random_search = RandomizedSearchCV(rf_pipeline, param_distributions=param_dist,\n",
        "                                   n_iter=20, cv=5, scoring='r2', random_state=42, n_jobs=-1)\n",
        "random_search.fit(X_train, y_train)\n",
        "\n",
        "# Best model\n",
        "best_rf_model = random_search.best_estimator_\n",
        "y_pred_rf_opt = best_rf_model.predict(X_test)\n",
        "\n",
        "# Evaluation\n",
        "r2_rf_opt = r2_score(y_test, y_pred_rf_opt)\n",
        "np.sqrt(mean_squared_error(y_test, y_pred_rf))\n",
        "rmse_rf_opt = np.sqrt(mse)\n",
        "print(\"Random Forest Best Hyperparameters:\", random_search.best_params_)\n",
        "print(\"R² Score:\", r2_rf_opt)\n",
        "print(\"RMSE:\", rmse_rf_opt)"
      ],
      "metadata": {
        "id": "Dn0EOfS6psJ2",
        "colab": {
          "base_uri": "https://localhost:8080/",
          "height": 0
        },
        "outputId": "ecdeb02f-93ef-4301-ecd3-9a8c231216f3"
      },
      "execution_count": 53,
      "outputs": [
        {
          "output_type": "stream",
          "name": "stdout",
          "text": [
            "Random Forest Best Hyperparameters: {'regressor__bootstrap': False, 'regressor__max_depth': None, 'regressor__max_features': 'sqrt', 'regressor__min_samples_leaf': 1, 'regressor__min_samples_split': 3, 'regressor__n_estimators': 439}\n",
            "R² Score: 0.6237053740929661\n",
            "RMSE: 37.15313763861418\n"
          ]
        }
      ]
    },
    {
      "cell_type": "markdown",
      "source": [
        "##### Which hyperparameter optimization technique have you used and why?"
      ],
      "metadata": {
        "id": "HAih1iBOpsJ2"
      }
    },
    {
      "cell_type": "markdown",
      "source": [
        "Randomized search CV it randomly checks with different combinations of parametres from grid."
      ],
      "metadata": {
        "id": "9kBgjYcdpsJ2"
      }
    },
    {
      "cell_type": "markdown",
      "source": [
        "##### Have you seen any improvement? Note down the improvement with updates Evaluation metric Score Chart."
      ],
      "metadata": {
        "id": "zVGeBEFhpsJ2"
      }
    },
    {
      "cell_type": "markdown",
      "source": [
        "There was slight improvement. this model gives R square value of 0.62 which is a decent performance of evaluation."
      ],
      "metadata": {
        "id": "74yRdG6UpsJ3"
      }
    },
    {
      "cell_type": "markdown",
      "source": [
        "### ML Model - 3"
      ],
      "metadata": {
        "id": "Fze-IPXLpx6K"
      }
    },
    {
      "cell_type": "code",
      "source": [
        "from sklearn.ensemble import GradientBoostingRegressor\n",
        "\n",
        "# Model pipeline\n",
        "gb_pipeline = Pipeline(steps=[\n",
        "    ('preprocessor', preprocessor),\n",
        "    ('regressor', GradientBoostingRegressor(random_state=42))\n",
        "])\n",
        "\n",
        "# Fit the Algorithm\n",
        "gb_pipeline.fit(X_train, y_train)\n",
        "\n",
        "# Predict on the model\n",
        "y_pred_gb = gb_pipeline.predict(X_test)\n",
        "\n",
        "# Evaluation\n",
        "print(\"\\nGradient Boosting Results:\")\n",
        "print(\"R² Score:\", r2_score(y_test, y_pred_gb))\n",
        "mse = mean_squared_error(y_test, y_pred_gb)\n",
        "rmse = np.sqrt(mse)\n",
        "print(\"RMSE:\", rmse)"
      ],
      "metadata": {
        "id": "FFrSXAtrpx6M",
        "colab": {
          "base_uri": "https://localhost:8080/",
          "height": 0
        },
        "outputId": "f2a88af6-d9f7-4c36-b97f-b971a3a2385e"
      },
      "execution_count": 54,
      "outputs": [
        {
          "output_type": "stream",
          "name": "stdout",
          "text": [
            "\n",
            "Gradient Boosting Results:\n",
            "R² Score: 0.3115263626641982\n",
            "RMSE: 33.67706425415404\n"
          ]
        }
      ]
    },
    {
      "cell_type": "markdown",
      "source": [
        "#### 1. Explain the ML Model used and it's performance using Evaluation metric Score Chart."
      ],
      "metadata": {
        "id": "7AN1z2sKpx6M"
      }
    },
    {
      "cell_type": "code",
      "source": [
        "# Visualizing evaluation Metric Score chart\n",
        "# Evaluation Metrics\n",
        "r2_gb = r2_score(y_test, y_pred_gb)\n",
        "mse = mean_squared_error(y_test, y_pred_gb)\n",
        "rmse_gb = np.sqrt(mse)\n",
        "# Plot\n",
        "plt.figure(figsize=(5, 4))\n",
        "plt.bar(['R² Score', 'RMSE'], [r2_gb, rmse_gb], color=['skyblue', 'salmon'])\n",
        "plt.title('Gradient Boosting Evaluation')\n",
        "plt.ylabel('Score')\n",
        "plt.ylim(0, max(r2_gb, rmse_gb) + 1)\n",
        "plt.show()\n"
      ],
      "metadata": {
        "id": "xIY4lxxGpx6M",
        "colab": {
          "base_uri": "https://localhost:8080/",
          "height": 392
        },
        "outputId": "90c2b211-d8dc-4df3-a5c8-8bf7da716d0d"
      },
      "execution_count": 55,
      "outputs": [
        {
          "output_type": "display_data",
          "data": {
            "text/plain": [
              "<Figure size 500x400 with 1 Axes>"
            ],
            "image/png": "[encoded data removed]"
          },
          "metadata": {}
        }
      ]
    },
    {
      "cell_type": "markdown",
      "source": [
        "#### 2. Cross- Validation & Hyperparameter Tuning"
      ],
      "metadata": {
        "id": "9PIHJqyupx6M"
      }
    },
    {
      "cell_type": "code",
      "source": [
        "# ML Model - 3 Implementation with hyperparameter optimization techniques (i.e., GridSearch CV, RandomSearch CV, Bayesian Optimization etc.)\n",
        "import optuna\n",
        "from sklearn.ensemble import GradientBoostingRegressor\n",
        "from sklearn.model_selection import cross_val_score\n",
        "\n",
        "def objective(trial):\n",
        "    params = {\n",
        "        'n_estimators': trial.suggest_int('n_estimators', 100, 300),\n",
        "        'max_depth': trial.suggest_int('max_depth', 3, 15),\n",
        "        'learning_rate': trial.suggest_float('learning_rate', 0.01, 0.3),\n",
        "        'min_samples_split': trial.suggest_int('min_samples_split', 2, 10),\n",
        "        'min_samples_leaf': trial.suggest_int('min_samples_leaf', 1, 5)\n",
        "    }\n",
        "\n",
        "    gb_pipeline = Pipeline(steps=[\n",
        "        ('preprocessor', preprocessor),\n",
        "        ('regressor', GradientBoostingRegressor(**params))\n",
        "    ])\n",
        "\n",
        "    scores = cross_val_score(gb_pipeline, X_train, y_train, cv=5, scoring='r2')\n",
        "    return scores.mean()\n",
        "\n",
        "# Run optimization\n",
        "study = optuna.create_study(direction='maximize')\n",
        "study.optimize(objective, n_trials=30)\n",
        "\n",
        "# Train best model\n",
        "best_params = study.best_params\n",
        "gb_pipeline_opt = Pipeline(steps=[\n",
        "    ('preprocessor', preprocessor),\n",
        "    ('regressor', GradientBoostingRegressor(**best_params))\n",
        "])\n",
        "gb_pipeline_opt.fit(X_train, y_train)\n",
        "\n",
        "# Predict\n",
        "y_pred_gb_opt = gb_pipeline_opt.predict(X_test)\n",
        "\n",
        "# Evaluation\n",
        "r2_gb_opt = r2_score(y_test, y_pred_gb_opt)\n",
        "mse = mean_squared_error(y_test, y_pred_gb)\n",
        "rmse_gb_opt = np.sqrt(mse)\n",
        "print(\"Gradient Boosting Best Hyperparameters:\", best_params)\n",
        "print(\"R² Score:\", r2_gb_opt)\n",
        "print(\"RMSE:\", rmse_gb_opt)\n"
      ],
      "metadata": {
        "id": "eSVXuaSKpx6M",
        "colab": {
          "base_uri": "https://localhost:8080/",
          "height": 0
        },
        "outputId": "c5e1cbdd-2ab2-4775-9f44-1f15a9a18edd"
      },
      "execution_count": 61,
      "outputs": [
        {
          "output_type": "stream",
          "name": "stderr",
          "text": [
            "[I 2025-06-17 19:24:21,383] A new study created in memory with name: no-name-92bc2ed1-51c1-4f66-b0ed-58f80b3c986a\n",
            "[I 2025-06-17 19:24:28,745] Trial 0 finished with value: 0.3450277555574406 and parameters: {'n_estimators': 232, 'max_depth': 4, 'learning_rate': 0.29716395908415355, 'min_samples_split': 3, 'min_samples_leaf': 1}. Best is trial 0 with value: 0.3450277555574406.\n",
            "[I 2025-06-17 19:24:35,558] Trial 1 finished with value: 0.27267023121305783 and parameters: {'n_estimators': 122, 'max_depth': 15, 'learning_rate': 0.23649903041163844, 'min_samples_split': 5, 'min_samples_leaf': 2}. Best is trial 0 with value: 0.3450277555574406.\n",
            "[I 2025-06-17 19:24:42,348] Trial 2 finished with value: 0.38204225030226036 and parameters: {'n_estimators': 153, 'max_depth': 9, 'learning_rate': 0.1577839401141293, 'min_samples_split': 6, 'min_samples_leaf': 1}. Best is trial 2 with value: 0.38204225030226036.\n",
            "[I 2025-06-17 19:24:44,484] Trial 3 finished with value: 0.2963401371820334 and parameters: {'n_estimators': 228, 'max_depth': 4, 'learning_rate': 0.1108787084921426, 'min_samples_split': 5, 'min_samples_leaf': 5}. Best is trial 2 with value: 0.38204225030226036.\n",
            "[I 2025-06-17 19:24:48,283] Trial 4 finished with value: 0.3522834569392908 and parameters: {'n_estimators': 210, 'max_depth': 11, 'learning_rate': 0.24759891574405782, 'min_samples_split': 4, 'min_samples_leaf': 3}. Best is trial 2 with value: 0.38204225030226036.\n",
            "[I 2025-06-17 19:24:50,367] Trial 5 finished with value: 0.36948713450465986 and parameters: {'n_estimators': 102, 'max_depth': 8, 'learning_rate': 0.06531294671562918, 'min_samples_split': 7, 'min_samples_leaf': 1}. Best is trial 2 with value: 0.38204225030226036.\n",
            "[I 2025-06-17 19:24:55,016] Trial 6 finished with value: 0.35659212696688475 and parameters: {'n_estimators': 293, 'max_depth': 7, 'learning_rate': 0.18531515115688624, 'min_samples_split': 6, 'min_samples_leaf': 3}. Best is trial 2 with value: 0.38204225030226036.\n",
            "[I 2025-06-17 19:24:58,778] Trial 7 finished with value: 0.3477029163365149 and parameters: {'n_estimators': 174, 'max_depth': 13, 'learning_rate': 0.16174905959380836, 'min_samples_split': 9, 'min_samples_leaf': 3}. Best is trial 2 with value: 0.38204225030226036.\n",
            "[I 2025-06-17 19:25:00,052] Trial 8 finished with value: 0.3318556195674781 and parameters: {'n_estimators': 125, 'max_depth': 6, 'learning_rate': 0.1783900496872391, 'min_samples_split': 3, 'min_samples_leaf': 4}. Best is trial 2 with value: 0.38204225030226036.\n",
            "[I 2025-06-17 19:25:01,429] Trial 9 finished with value: 0.35492660649863067 and parameters: {'n_estimators': 116, 'max_depth': 5, 'learning_rate': 0.29609579536743047, 'min_samples_split': 9, 'min_samples_leaf': 3}. Best is trial 2 with value: 0.38204225030226036.\n",
            "[I 2025-06-17 19:25:05,773] Trial 10 finished with value: 0.3300521195410873 and parameters: {'n_estimators': 169, 'max_depth': 10, 'learning_rate': 0.017351266357939432, 'min_samples_split': 7, 'min_samples_leaf': 1}. Best is trial 2 with value: 0.38204225030226036.\n",
            "[I 2025-06-17 19:25:08,402] Trial 11 finished with value: 0.3820412564625989 and parameters: {'n_estimators': 152, 'max_depth': 8, 'learning_rate': 0.09070521770343776, 'min_samples_split': 7, 'min_samples_leaf': 1}. Best is trial 2 with value: 0.38204225030226036.\n",
            "[I 2025-06-17 19:25:10,778] Trial 12 finished with value: 0.36565003722188755 and parameters: {'n_estimators': 156, 'max_depth': 9, 'learning_rate': 0.1091842405254574, 'min_samples_split': 8, 'min_samples_leaf': 2}. Best is trial 2 with value: 0.38204225030226036.\n",
            "[I 2025-06-17 19:25:13,817] Trial 13 finished with value: 0.3341354536639255 and parameters: {'n_estimators': 150, 'max_depth': 12, 'learning_rate': 0.10912509548686976, 'min_samples_split': 10, 'min_samples_leaf': 2}. Best is trial 2 with value: 0.38204225030226036.\n",
            "[I 2025-06-17 19:25:16,843] Trial 14 finished with value: 0.3785088327509916 and parameters: {'n_estimators': 190, 'max_depth': 8, 'learning_rate': 0.058293984959179604, 'min_samples_split': 6, 'min_samples_leaf': 1}. Best is trial 2 with value: 0.38204225030226036.\n",
            "[I 2025-06-17 19:25:22,573] Trial 15 finished with value: 0.3535512888406078 and parameters: {'n_estimators': 259, 'max_depth': 10, 'learning_rate': 0.13380080829478028, 'min_samples_split': 7, 'min_samples_leaf': 2}. Best is trial 2 with value: 0.38204225030226036.\n",
            "[I 2025-06-17 19:25:24,574] Trial 16 finished with value: 0.38251385533620363 and parameters: {'n_estimators': 138, 'max_depth': 7, 'learning_rate': 0.06339360968906291, 'min_samples_split': 2, 'min_samples_leaf': 1}. Best is trial 16 with value: 0.38251385533620363.\n",
            "[I 2025-06-17 19:25:25,907] Trial 17 finished with value: 0.15521027293157386 and parameters: {'n_estimators': 135, 'max_depth': 3, 'learning_rate': 0.01992628564912033, 'min_samples_split': 2, 'min_samples_leaf': 4}. Best is trial 16 with value: 0.38251385533620363.\n",
            "[I 2025-06-17 19:25:28,508] Trial 18 finished with value: 0.3618468708467601 and parameters: {'n_estimators': 192, 'max_depth': 6, 'learning_rate': 0.21396826817023606, 'min_samples_split': 2, 'min_samples_leaf': 2}. Best is trial 16 with value: 0.38251385533620363.\n",
            "[I 2025-06-17 19:25:33,452] Trial 19 finished with value: 0.3001563816848151 and parameters: {'n_estimators': 104, 'max_depth': 13, 'learning_rate': 0.05509339881669357, 'min_samples_split': 4, 'min_samples_leaf': 1}. Best is trial 16 with value: 0.38251385533620363.\n",
            "[I 2025-06-17 19:25:36,599] Trial 20 finished with value: 0.3289965257392152 and parameters: {'n_estimators': 141, 'max_depth': 6, 'learning_rate': 0.13564341675924843, 'min_samples_split': 3, 'min_samples_leaf': 5}. Best is trial 16 with value: 0.38251385533620363.\n",
            "[I 2025-06-17 19:25:38,981] Trial 21 finished with value: 0.3745670174924889 and parameters: {'n_estimators': 170, 'max_depth': 8, 'learning_rate': 0.0847626390827978, 'min_samples_split': 8, 'min_samples_leaf': 1}. Best is trial 16 with value: 0.38251385533620363.\n",
            "[I 2025-06-17 19:25:41,481] Trial 22 finished with value: 0.35580904024518967 and parameters: {'n_estimators': 157, 'max_depth': 9, 'learning_rate': 0.09150290664414329, 'min_samples_split': 5, 'min_samples_leaf': 1}. Best is trial 16 with value: 0.38251385533620363.\n",
            "[I 2025-06-17 19:25:43,431] Trial 23 finished with value: 0.3204444364525608 and parameters: {'n_estimators': 140, 'max_depth': 7, 'learning_rate': 0.04001098820937926, 'min_samples_split': 8, 'min_samples_leaf': 2}. Best is trial 16 with value: 0.38251385533620363.\n",
            "[I 2025-06-17 19:25:46,964] Trial 24 finished with value: 0.3762224172352993 and parameters: {'n_estimators': 178, 'max_depth': 10, 'learning_rate': 0.1398558738203211, 'min_samples_split': 10, 'min_samples_leaf': 1}. Best is trial 16 with value: 0.38251385533620363.\n",
            "[I 2025-06-17 19:25:50,649] Trial 25 finished with value: 0.37152750345845525 and parameters: {'n_estimators': 210, 'max_depth': 7, 'learning_rate': 0.08082041193397153, 'min_samples_split': 6, 'min_samples_leaf': 2}. Best is trial 16 with value: 0.38251385533620363.\n",
            "[I 2025-06-17 19:25:53,779] Trial 26 finished with value: 0.33498561826520334 and parameters: {'n_estimators': 152, 'max_depth': 11, 'learning_rate': 0.19623280077772032, 'min_samples_split': 4, 'min_samples_leaf': 1}. Best is trial 16 with value: 0.38251385533620363.\n",
            "[I 2025-06-17 19:25:55,788] Trial 27 finished with value: 0.34430295954273216 and parameters: {'n_estimators': 127, 'max_depth': 9, 'learning_rate': 0.15676567858254176, 'min_samples_split': 7, 'min_samples_leaf': 4}. Best is trial 16 with value: 0.38251385533620363.\n",
            "[I 2025-06-17 19:25:57,611] Trial 28 finished with value: 0.2848416989626743 and parameters: {'n_estimators': 163, 'max_depth': 5, 'learning_rate': 0.03811007980315463, 'min_samples_split': 9, 'min_samples_leaf': 2}. Best is trial 16 with value: 0.38251385533620363.\n",
            "[I 2025-06-17 19:26:01,312] Trial 29 finished with value: 0.3728177063671121 and parameters: {'n_estimators': 188, 'max_depth': 8, 'learning_rate': 0.122034109374769, 'min_samples_split': 2, 'min_samples_leaf': 1}. Best is trial 16 with value: 0.38251385533620363.\n"
          ]
        },
        {
          "output_type": "stream",
          "name": "stdout",
          "text": [
            "Gradient Boosting Best Hyperparameters: {'n_estimators': 138, 'max_depth': 7, 'learning_rate': 0.06339360968906291, 'min_samples_split': 2, 'min_samples_leaf': 1}\n",
            "R² Score: 0.6237591882361583\n",
            "RMSE: 33.67706425415404\n"
          ]
        }
      ]
    },
    {
      "cell_type": "markdown",
      "source": [
        "##### Which hyperparameter optimization technique have you used and why?"
      ],
      "metadata": {
        "id": "_-qAgymDpx6N"
      }
    },
    {
      "cell_type": "markdown",
      "source": [
        "I used optuna optimization technique as it thoroughly checks for each of the best parameters and gives best results."
      ],
      "metadata": {
        "id": "lQMffxkwpx6N"
      }
    },
    {
      "cell_type": "markdown",
      "source": [
        "##### Have you seen any improvement? Note down the improvement with updates Evaluation metric Score Chart."
      ],
      "metadata": {
        "id": "Z-hykwinpx6N"
      }
    },
    {
      "cell_type": "markdown",
      "source": [
        "yes there has been increase in r square from 0.31 to 0.62 which is double."
      ],
      "metadata": {
        "id": "MzVzZC6opx6N"
      }
    },
    {
      "cell_type": "markdown",
      "source": [
        "### 1. Which Evaluation metrics did you consider for a positive business impact and why?"
      ],
      "metadata": {
        "id": "h_CCil-SKHpo"
      }
    },
    {
      "cell_type": "markdown",
      "source": [
        "I used R square and RMSE as evaluation metrics as they are good indicators of performance. R suare explains the variance and RMSE shows the error rate."
      ],
      "metadata": {
        "id": "jHVz9hHDKFms"
      }
    },
    {
      "cell_type": "markdown",
      "source": [
        "### 2. Which ML model did you choose from the above created models as your final prediction model and why?"
      ],
      "metadata": {
        "id": "cBFFvTBNJzUa"
      }
    },
    {
      "cell_type": "markdown",
      "source": [
        "i chose the Gradient boosting model as the best one for final prediction as it showed bet results not only in one evaluation metric but both the metrics it gave decent r square value and low RMSE comparitively."
      ],
      "metadata": {
        "id": "6ksF5Q1LKTVm"
      }
    },
    {
      "cell_type": "markdown",
      "source": [
        "## ***8.*** ***Future Work (Optional)***"
      ],
      "metadata": {
        "id": "EyNgTHvd2WFk"
      }
    },
    {
      "cell_type": "markdown",
      "source": [
        "### 1. Save the best performing ml model in a pickle file or joblib file format for deployment process.\n"
      ],
      "metadata": {
        "id": "KH5McJBi2d8v"
      }
    },
    {
      "cell_type": "code",
      "source": [
        "import joblib\n",
        "\n",
        "# Save the model\n",
        "joblib.dump(gb_pipeline_opt, 'best_gradient_boosting_model.joblib')\n"
      ],
      "metadata": {
        "id": "bQIANRl32f4J",
        "colab": {
          "base_uri": "https://localhost:8080/",
          "height": 0
        },
        "outputId": "ac002e69-0192-4435-d715-2a6c527954e3"
      },
      "execution_count": 62,
      "outputs": [
        {
          "output_type": "execute_result",
          "data": {
            "text/plain": [
              "['best_gradient_boosting_model.joblib']"
            ]
          },
          "metadata": {},
          "execution_count": 62
        }
      ]
    },
    {
      "cell_type": "markdown",
      "source": [
        "### 2. Again Load the saved model file and try to predict unseen data for a sanity check.\n"
      ],
      "metadata": {
        "id": "iW_Lq9qf2h6X"
      }
    },
    {
      "cell_type": "code",
      "source": [
        "# Load the File and predict unseen data.\n",
        "loaded_model = joblib.load('best_gradient_boosting_model.joblib')\n",
        "new_data = pd.DataFrame({\n",
        "    'job_title_category': ['Data Scientist'],\n",
        "    'company_size': ['1001 to 5000 employees'],\n",
        "    'state': ['CA'],\n",
        "    'sdesc_len': [150],\n",
        "    'num_comp': [3]\n",
        "})\n",
        "\n",
        "# Predict\n",
        "predicted_salary = loaded_model.predict(new_data)\n",
        "print(\"Predicted Salary:\", predicted_salary[0])"
      ],
      "metadata": {
        "id": "oEXk9ydD2nVC",
        "colab": {
          "base_uri": "https://localhost:8080/",
          "height": 0
        },
        "outputId": "0143c9c3-ab20-4a7d-d7b3-e8989648a963"
      },
      "execution_count": 67,
      "outputs": [
        {
          "output_type": "stream",
          "name": "stdout",
          "text": [
            "Predicted Salary: 32.38493348898257\n"
          ]
        }
      ]
    },
    {
      "cell_type": "markdown",
      "source": [
        "### ***Congrats! Your model is successfully created and ready for deployment on a live server for a real user interaction !!!***"
      ],
      "metadata": {
        "id": "-Kee-DAl2viO"
      }
    },
    {
      "cell_type": "markdown",
      "source": [
        "# **Conclusion**"
      ],
      "metadata": {
        "id": "gCX9965dhzqZ"
      }
    },
    {
      "cell_type": "markdown",
      "source": [
        "This project successfully connects salary expectations with market realities by using machine learning to understand compensation trends in the tech industry. The findings offer practical insights for all parties involved. Job seekers can check their worth, employers can improve their compensation strategies, and recruiters can make better hiring decisions.\n",
        "\n",
        "The Gradient Boosting model proved to be a strong predictor of salaries. It showed that factors like job role, company size, and location have a significant effect on earnings. The analysis also confirmed that DevOps roles earn higher salaries. Meanwhile, larger companies and tech hubs like Washington, D.C., offer better pay, supporting real-world observations with data.\n",
        "\n",
        "Looking ahead, this work sets the stage for more flexible solutions, such as real-time salary tracking tools or wider industry coverage. By turning raw data into useful insights, the project not only improves transparency in compensation but also encourages fairness and competitiveness in the job market."
      ],
      "metadata": {
        "id": "Fjb1IsQkh3yE"
      }
    },
    {
      "cell_type": "markdown",
      "source": [
        "### ***Hurrah! You have successfully completed your Machine Learning Capstone Project !!!***"
      ],
      "metadata": {
        "id": "gIfDvo9L0UH2"
      }
    }
  ]
}